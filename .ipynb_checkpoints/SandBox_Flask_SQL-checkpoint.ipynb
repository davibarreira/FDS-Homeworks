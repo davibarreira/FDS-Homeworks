{
 "cells": [
  {
   "cell_type": "code",
   "execution_count": 242,
   "metadata": {},
   "outputs": [],
   "source": [
    "%matplotlib inline\n",
    "from scrape_scholar import scrape\n",
    "from flask import Flask\n",
    "import sqlite3\n",
    "import pandas as pd\n",
    "import itertools\n",
    "import networkx as nx"
   ]
  },
  {
   "cell_type": "code",
   "execution_count": null,
   "metadata": {},
   "outputs": [],
   "source": [
    "# Testando\n",
    "papers = scrape('Evandro Parente')"
   ]
  },
  {
   "cell_type": "markdown",
   "metadata": {},
   "source": [
    "# Criando a base de dados"
   ]
  },
  {
   "cell_type": "code",
   "execution_count": 192,
   "metadata": {},
   "outputs": [],
   "source": [
    "schema = \"\"\"\n",
    "DROP TABLE IF EXISTS \"author\";\n",
    "DROP TABLE IF EXISTS \"paper\";\n",
    "DROP TABLE IF EXISTS \"author_paper\";\n",
    "CREATE TABLE \"author\" (\n",
    "    \"id\" INTEGER PRIMARY KEY  NOT NULL ,\n",
    "    \"author_name\" VARCHAR NOT NULL UNIQUE\n",
    ");\n",
    "CREATE TABLE \"paper\" (\n",
    "    \"id\" INTEGER PRIMARY KEY  NOT NULL ,\n",
    "    \"paper_name\" VARCHAR NOT NULL UNIQUE\n",
    ");\n",
    "CREATE TABLE \"author_paper\" (\n",
    "    paper_id VARCHAR,\n",
    "    author_id VARCHAR,\n",
    "    FOREIGN KEY(paper_id) REFERENCES paper(paper_name)\n",
    "    FOREIGN KEY(author_id) REFERENCES author(author_name)\n",
    ");\n",
    "\"\"\""
   ]
  },
  {
   "cell_type": "code",
   "execution_count": 193,
   "metadata": {},
   "outputs": [],
   "source": [
    "conn = sqlite3.connect('hw1.sqlite',timeout=10)\n",
    "cursor = conn.cursor()\n",
    "cursor.executescript(schema)\n",
    "conn.commit()\n",
    "conn.close()"
   ]
  },
  {
   "cell_type": "code",
   "execution_count": 194,
   "metadata": {},
   "outputs": [],
   "source": [
    "ins_paper_author =\"\"\"\n",
    "INSERT INTO author_paper (paper_id, author_id) \\\n",
    "    VALUES (?,?);\n",
    "\"\"\"\n",
    "\n",
    "conn = sqlite3.connect('hw1.sqlite',timeout=10)\n",
    "for i in papers:\n",
    "    pairs = list(itertools.product([i['title']],i['authors']))\n",
    "    for pair in pairs:\n",
    "        conn.execute(ins_paper_author,pair)\n",
    "conn.commit()\n",
    "conn.close()"
   ]
  },
  {
   "cell_type": "code",
   "execution_count": 195,
   "metadata": {},
   "outputs": [],
   "source": [
    "autores =sorted(set([i for sublist in [i['authors'] for i in papers] for i in sublist]))\n",
    "articles= [i['title'] for i in papers]"
   ]
  },
  {
   "cell_type": "code",
   "execution_count": 196,
   "metadata": {},
   "outputs": [],
   "source": [
    "ins_author = \"\"\"\n",
    "INSERT OR IGNORE INTO author (author_name) VALUES (?);\n",
    "\"\"\"\n",
    "conn = sqlite3.connect('hw1.sqlite',timeout=10)\n",
    "for autor in autores:\n",
    "    conn.execute(ins_author,[autor])\n",
    "conn.commit()\n",
    "conn.close()"
   ]
  },
  {
   "cell_type": "code",
   "execution_count": 197,
   "metadata": {},
   "outputs": [],
   "source": [
    "ins_paper = \"\"\"\n",
    "INSERT OR IGNORE INTO paper (paper_name) VALUES (?);\n",
    "\"\"\"\n",
    "conn = sqlite3.connect('hw1.sqlite',timeout=10)\n",
    "for paper in articles:\n",
    "    conn.execute(ins_paper,[paper])\n",
    "conn.commit()\n",
    "conn.close()"
   ]
  },
  {
   "cell_type": "code",
   "execution_count": 199,
   "metadata": {},
   "outputs": [],
   "source": [
    "conn = sqlite3.connect('hw1.sqlite',timeout=10)\n",
    "conn.close()\n",
    "# for row in conn.execute('SELECT * FROM paper'):\n",
    "#     print(row)"
   ]
  },
  {
   "cell_type": "code",
   "execution_count": 213,
   "metadata": {},
   "outputs": [],
   "source": [
    "query_pair_authors = \"\"\"\n",
    "SELECT paper_id,\n",
    "       a1.author_id AS author1,\n",
    "       a2.author_id AS author2\n",
    "FROM author_paper AS a1\n",
    "JOIN author_paper AS a2 USING (paper_id)\n",
    "WHERE a1.author_id < a2.author_id;\n",
    "\"\"\""
   ]
  },
  {
   "cell_type": "code",
   "execution_count": 230,
   "metadata": {},
   "outputs": [],
   "source": [
    "conn = sqlite3.connect('hw1.sqlite')\n",
    "edges_authors = []\n",
    "for row in conn.execute(query_pair_authors):\n",
    "    edges_authors.append(row)\n",
    "conn.close()\n",
    "edges_authors= pd.DataFrame(edges_authors,columns=['paper','author1','author2'])"
   ]
  },
  {
   "cell_type": "code",
   "execution_count": 235,
   "metadata": {},
   "outputs": [
    {
     "data": {
      "text/html": [
       "<div>\n",
       "<style scoped>\n",
       "    .dataframe tbody tr th:only-of-type {\n",
       "        vertical-align: middle;\n",
       "    }\n",
       "\n",
       "    .dataframe tbody tr th {\n",
       "        vertical-align: top;\n",
       "    }\n",
       "\n",
       "    .dataframe thead th {\n",
       "        text-align: right;\n",
       "    }\n",
       "</style>\n",
       "<table border=\"1\" class=\"dataframe\">\n",
       "  <thead>\n",
       "    <tr style=\"text-align: right;\">\n",
       "      <th></th>\n",
       "      <th>paper</th>\n",
       "      <th>author1</th>\n",
       "      <th>author2</th>\n",
       "    </tr>\n",
       "  </thead>\n",
       "  <tbody>\n",
       "    <tr>\n",
       "      <th>0</th>\n",
       "      <td>An object-oriented framework for finite elemen...</td>\n",
       "      <td>E Parente Jr</td>\n",
       "      <td>LF Martha</td>\n",
       "    </tr>\n",
       "    <tr>\n",
       "      <th>1</th>\n",
       "      <td>Improvement of semi‐analytical design sensitiv...</td>\n",
       "      <td>E Parente Jr</td>\n",
       "      <td>LE Vaz</td>\n",
       "    </tr>\n",
       "    <tr>\n",
       "      <th>2</th>\n",
       "      <td>A hybrid shared/distributed memory parallel ge...</td>\n",
       "      <td>E Parente Jr</td>\n",
       "      <td>I Rocha</td>\n",
       "    </tr>\n",
       "    <tr>\n",
       "      <th>3</th>\n",
       "      <td>A hybrid shared/distributed memory parallel ge...</td>\n",
       "      <td>AMC Melo</td>\n",
       "      <td>E Parente Jr</td>\n",
       "    </tr>\n",
       "    <tr>\n",
       "      <th>4</th>\n",
       "      <td>A hybrid shared/distributed memory parallel ge...</td>\n",
       "      <td>AMC Melo</td>\n",
       "      <td>I Rocha</td>\n",
       "    </tr>\n",
       "  </tbody>\n",
       "</table>\n",
       "</div>"
      ],
      "text/plain": [
       "                                               paper       author1  \\\n",
       "0  An object-oriented framework for finite elemen...  E Parente Jr   \n",
       "1  Improvement of semi‐analytical design sensitiv...  E Parente Jr   \n",
       "2  A hybrid shared/distributed memory parallel ge...  E Parente Jr   \n",
       "3  A hybrid shared/distributed memory parallel ge...      AMC Melo   \n",
       "4  A hybrid shared/distributed memory parallel ge...      AMC Melo   \n",
       "\n",
       "        author2  \n",
       "0     LF Martha  \n",
       "1        LE Vaz  \n",
       "2       I Rocha  \n",
       "3  E Parente Jr  \n",
       "4       I Rocha  "
      ]
     },
     "execution_count": 235,
     "metadata": {},
     "output_type": "execute_result"
    }
   ],
   "source": [
    "edges_authors.head()"
   ]
  },
  {
   "cell_type": "code",
   "execution_count": 219,
   "metadata": {},
   "outputs": [],
   "source": [
    "query_pair_papers = \"\"\"\n",
    "SELECT author_id,\n",
    "       a1.paper_id AS paper1,\n",
    "       a2.paper_id AS paper2\n",
    "FROM author_paper AS a1\n",
    "JOIN author_paper AS a2 USING (author_id)\n",
    "WHERE a1.paper_id < a2.paper_id;\n",
    "\"\"\""
   ]
  },
  {
   "cell_type": "code",
   "execution_count": 232,
   "metadata": {},
   "outputs": [],
   "source": [
    "conn = sqlite3.connect('hw1.sqlite')\n",
    "edges_papers = []\n",
    "for row in conn.execute(query_pair_papers):\n",
    "    edges_papers.append(row)\n",
    "conn.close()\n",
    "edges_papers = pd.DataFrame(edges_papers,columns=['author','paper1','paper2'])"
   ]
  },
  {
   "cell_type": "code",
   "execution_count": 236,
   "metadata": {},
   "outputs": [
    {
     "data": {
      "text/html": [
       "<div>\n",
       "<style scoped>\n",
       "    .dataframe tbody tr th:only-of-type {\n",
       "        vertical-align: middle;\n",
       "    }\n",
       "\n",
       "    .dataframe tbody tr th {\n",
       "        vertical-align: top;\n",
       "    }\n",
       "\n",
       "    .dataframe thead th {\n",
       "        text-align: right;\n",
       "    }\n",
       "</style>\n",
       "<table border=\"1\" class=\"dataframe\">\n",
       "  <thead>\n",
       "    <tr style=\"text-align: right;\">\n",
       "      <th></th>\n",
       "      <th>author</th>\n",
       "      <th>paper1</th>\n",
       "      <th>paper2</th>\n",
       "    </tr>\n",
       "  </thead>\n",
       "  <tbody>\n",
       "    <tr>\n",
       "      <th>0</th>\n",
       "      <td>LF Martha</td>\n",
       "      <td>An object-oriented framework for finite elemen...</td>\n",
       "      <td>Consideration of Structural Member Deformation...</td>\n",
       "    </tr>\n",
       "    <tr>\n",
       "      <th>1</th>\n",
       "      <td>E Parente Jr</td>\n",
       "      <td>An object-oriented framework for finite elemen...</td>\n",
       "      <td>Análise Viscoelástica de Pavimentos Asfálticos...</td>\n",
       "    </tr>\n",
       "    <tr>\n",
       "      <th>2</th>\n",
       "      <td>E Parente Jr</td>\n",
       "      <td>An object-oriented framework for finite elemen...</td>\n",
       "      <td>Análise de sensibilidade e otimização de forma...</td>\n",
       "    </tr>\n",
       "    <tr>\n",
       "      <th>3</th>\n",
       "      <td>E Parente Jr</td>\n",
       "      <td>An object-oriented framework for finite elemen...</td>\n",
       "      <td>Beam-tendon finite elements for post-tensioned...</td>\n",
       "    </tr>\n",
       "    <tr>\n",
       "      <th>4</th>\n",
       "      <td>E Parente Jr</td>\n",
       "      <td>An object-oriented framework for finite elemen...</td>\n",
       "      <td>Desenvolvimento de um gerador de malhas para a...</td>\n",
       "    </tr>\n",
       "  </tbody>\n",
       "</table>\n",
       "</div>"
      ],
      "text/plain": [
       "         author                                             paper1  \\\n",
       "0     LF Martha  An object-oriented framework for finite elemen...   \n",
       "1  E Parente Jr  An object-oriented framework for finite elemen...   \n",
       "2  E Parente Jr  An object-oriented framework for finite elemen...   \n",
       "3  E Parente Jr  An object-oriented framework for finite elemen...   \n",
       "4  E Parente Jr  An object-oriented framework for finite elemen...   \n",
       "\n",
       "                                              paper2  \n",
       "0  Consideration of Structural Member Deformation...  \n",
       "1  Análise Viscoelástica de Pavimentos Asfálticos...  \n",
       "2  Análise de sensibilidade e otimização de forma...  \n",
       "3  Beam-tendon finite elements for post-tensioned...  \n",
       "4  Desenvolvimento de um gerador de malhas para a...  "
      ]
     },
     "execution_count": 236,
     "metadata": {},
     "output_type": "execute_result"
    }
   ],
   "source": [
    "edges_papers.head()"
   ]
  },
  {
   "cell_type": "code",
   "execution_count": 239,
   "metadata": {},
   "outputs": [],
   "source": [
    "count_authors = edges_authors.groupby(['author1','author2']).count().reset_index()\n",
    "count_papers  = edges_papers.groupby(['paper1','paper2']).count().reset_index()"
   ]
  },
  {
   "cell_type": "code",
   "execution_count": null,
   "metadata": {},
   "outputs": [],
   "source": []
  },
  {
   "cell_type": "code",
   "execution_count": 251,
   "metadata": {},
   "outputs": [],
   "source": [
    "G_authors = nx.Graph()\n",
    "G_papers = nx.Graph()"
   ]
  },
  {
   "cell_type": "code",
   "execution_count": 252,
   "metadata": {},
   "outputs": [],
   "source": [
    "for d in count_authors.to_dict('records'):\n",
    "    G_authors.add_edge(d['author1'],d['author2'],count = d['paper'])\n",
    "    \n",
    "for d in count_papers.to_dict('records'):\n",
    "    G_papers.add_edge(d['paper1'],d['paper2'],count = d['author'])"
   ]
  },
  {
   "cell_type": "code",
   "execution_count": 272,
   "metadata": {},
   "outputs": [
    {
     "data": {
      "image/png": "[encoded data removed]",
      "text/plain": [
       "<Figure size 432x288 with 1 Axes>"
      ]
     },
     "metadata": {},
     "output_type": "display_data"
    }
   ],
   "source": [
    "nx.draw_spring(G_authors,edge_color='k')"
   ]
  },
  {
   "cell_type": "code",
   "execution_count": 261,
   "metadata": {},
   "outputs": [
    {
     "data": {
      "image/png": "[encoded data removed]",
      "text/plain": [
       "<Figure size 432x288 with 1 Axes>"
      ]
     },
     "metadata": {},
     "output_type": "display_data"
    }
   ],
   "source": [
    "nx.draw_spring(G_authors)"
   ]
  }
 ],
 "metadata": {
  "kernelspec": {
   "display_name": "Python3(datascience)",
   "language": "python",
   "name": "datascience"
  },
  "language_info": {
   "codemirror_mode": {
    "name": "ipython",
    "version": 3
   },
   "file_extension": ".py",
   "mimetype": "text/x-python",
   "name": "python",
   "nbconvert_exporter": "python",
   "pygments_lexer": "ipython3",
   "version": "3.6.8"
  }
 },
 "nbformat": 4,
 "nbformat_minor": 2
}
