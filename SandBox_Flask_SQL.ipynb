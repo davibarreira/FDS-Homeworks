{
 "cells": [
  {
   "cell_type": "markdown",
   "metadata": {},
   "source": [
    "###  Problema a ser resolvido!"
   ]
  },
  {
   "cell_type": "markdown",
   "metadata": {},
   "source": [
    "Temos que se atentar a casos de autores que não tenho nenhuma conexão. Código atual só está inserindo pelas arestas, portanto esses casos ainda não estão contemplado.\n",
    "\n",
    "Um problema similar está acontecendo para os papers. O autor do qual extraímos a informação está sendo contablizado para quando checamos se o paper tem ou não coautor comum, ou seja, todo paper tem coautor comum, que é o próprio autor que estamos pesquisando.\n",
    "Para resolver esse problema, poderíamos desconsiderar o autor que estamos olhando, porém, o seu nome de citação não está bem definido, não sabemos de fato qual a abreviação(ões) que estão sendo utilizadas para seu nome.\n",
    "\n",
    "Note que o problema de utilizar os nomes abreviados acontece para todos os autores. Estamos inclusive gerando nós duplicados com o mesmo autor e os conectando.\n",
    "\n"
   ]
  },
  {
   "cell_type": "code",
   "execution_count": 4,
   "metadata": {},
   "outputs": [],
   "source": [
    "%matplotlib inline\n",
    "from scrape_scholar import scrape, scrape_bypass\n",
    "from flask import Flask\n",
    "import sqlite3\n",
    "import pandas as pd\n",
    "import itertools\n",
    "import networkx as nx\n",
    "import requests\n",
    "from bs4 import BeautifulSoup"
   ]
  },
  {
   "cell_type": "code",
   "execution_count": 5,
   "metadata": {},
   "outputs": [],
   "source": [
    "# Testando\n",
    "papers = scrape('Rodrigo Targino')\n",
    "# url_author = 'https://scholar.google.com.br/citations?user=kwimDOUAAAAJ&hl=pt-BR&oi=ao'\n",
    "# papers = scrape_bypass(url_author)"
   ]
  },
  {
   "cell_type": "code",
   "execution_count": 3,
   "metadata": {},
   "outputs": [],
   "source": [
    "flat = []\n",
    "for i in papers:\n",
    "    for k in i['authors']:\n",
    "        flat.append([i['title'],k])\n",
    "flat = pd.DataFrame(flat,columns=['paper','author'])"
   ]
  },
  {
   "cell_type": "markdown",
   "metadata": {},
   "source": [
    "# Criando a base de dados"
   ]
  },
  {
   "cell_type": "code",
   "execution_count": 6,
   "metadata": {},
   "outputs": [],
   "source": [
    "schema = \"\"\"\n",
    "DROP TABLE IF EXISTS \"author\";\n",
    "DROP TABLE IF EXISTS \"paper\";\n",
    "DROP TABLE IF EXISTS \"author_paper\";\n",
    "CREATE TABLE \"author\" (\n",
    "    \"id\" INTEGER PRIMARY KEY  NOT NULL ,\n",
    "    \"author_name\" VARCHAR NOT NULL UNIQUE\n",
    ");\n",
    "CREATE TABLE \"paper\" (\n",
    "    \"id\" INTEGER PRIMARY KEY  NOT NULL ,\n",
    "    \"paper_name\" VARCHAR NOT NULL UNIQUE\n",
    ");\n",
    "CREATE TABLE \"author_paper\" (\n",
    "    paper_id VARCHAR,\n",
    "    author_id VARCHAR,\n",
    "    FOREIGN KEY(paper_id) REFERENCES paper(id)\n",
    "    FOREIGN KEY(author_id) REFERENCES author(id)\n",
    ");\n",
    "\"\"\""
   ]
  },
  {
   "cell_type": "code",
   "execution_count": 7,
   "metadata": {},
   "outputs": [],
   "source": [
    "conn = sqlite3.connect('hw1.sqlite',timeout=10)\n",
    "cursor = conn.cursor()\n",
    "cursor.executescript(schema)\n",
    "conn.commit()\n",
    "conn.close()"
   ]
  },
  {
   "cell_type": "code",
   "execution_count": 8,
   "metadata": {},
   "outputs": [],
   "source": [
    "autores =sorted(set([i for sublist in [i['authors'] for i in papers] for i in sublist]))\n",
    "articles= [i['title'] for i in papers]"
   ]
  },
  {
   "cell_type": "code",
   "execution_count": 9,
   "metadata": {},
   "outputs": [],
   "source": [
    "ins_author = \"\"\"\n",
    "INSERT OR IGNORE INTO author (author_name) VALUES (?);\n",
    "\"\"\"\n",
    "conn = sqlite3.connect('hw1.sqlite',timeout=10)\n",
    "for autor in autores:\n",
    "    conn.execute(ins_author,[autor])\n",
    "conn.commit()\n",
    "conn.close()"
   ]
  },
  {
   "cell_type": "code",
   "execution_count": 10,
   "metadata": {},
   "outputs": [],
   "source": [
    "ins_paper = \"\"\"\n",
    "INSERT OR IGNORE INTO paper (paper_name) VALUES (?);\n",
    "\"\"\"\n",
    "conn = sqlite3.connect('hw1.sqlite',timeout=10)\n",
    "for paper in articles:\n",
    "    conn.execute(ins_paper,[paper])\n",
    "conn.commit()\n",
    "conn.close()"
   ]
  },
  {
   "cell_type": "code",
   "execution_count": 11,
   "metadata": {},
   "outputs": [],
   "source": [
    "conn = sqlite3.connect('hw1.sqlite',timeout=10)\n",
    "paper_ids = []\n",
    "for row in conn.execute('SELECT * FROM paper'):\n",
    "    paper_ids.append(row)\n",
    "    \n",
    "author_ids = []\n",
    "for row in conn.execute('SELECT * FROM author'):\n",
    "    author_ids.append(row)\n",
    "conn.close()\n",
    "\n",
    "paper_ids = pd.DataFrame(paper_ids,columns=['paper_id','paper'])\n",
    "\n",
    "author_ids= pd.DataFrame(author_ids,columns=['author_id','author'])"
   ]
  },
  {
   "cell_type": "code",
   "execution_count": 12,
   "metadata": {},
   "outputs": [],
   "source": [
    "paper_author = pd.merge(flat,paper_ids,on='paper')\n",
    "paper_author = pd.merge(paper_author,author_ids,on='author')"
   ]
  },
  {
   "cell_type": "code",
   "execution_count": 13,
   "metadata": {},
   "outputs": [],
   "source": [
    "ins_paper_author =\"\"\"\n",
    "INSERT INTO author_paper (paper_id, author_id) \\\n",
    "    VALUES (?,?);\n",
    "\"\"\"\n",
    "\n",
    "conn = sqlite3.connect('hw1.sqlite',timeout=10)\n",
    "for index,row in paper_author.iterrows():\n",
    "    conn.execute(ins_paper_author,[row['paper_id'],row['author_id']])\n",
    "conn.commit()\n",
    "conn.close()"
   ]
  },
  {
   "cell_type": "code",
   "execution_count": 14,
   "metadata": {},
   "outputs": [],
   "source": [
    "conn = sqlite3.connect('hw1.sqlite',timeout=10)\n",
    "conn.close()\n",
    "# for row in conn.execute('SELECT * FROM paper'):\n",
    "#     print(row)"
   ]
  },
  {
   "cell_type": "code",
   "execution_count": 15,
   "metadata": {},
   "outputs": [],
   "source": [
    "query_pair_authors = \"\"\"\n",
    "SELECT paper_id,\n",
    "       a1.author_id AS author1,\n",
    "       a2.author_id AS author2\n",
    "FROM author_paper AS a1\n",
    "JOIN author_paper AS a2 USING (paper_id)\n",
    "WHERE a1.author_id < a2.author_id;\n",
    "\"\"\""
   ]
  },
  {
   "cell_type": "code",
   "execution_count": 16,
   "metadata": {},
   "outputs": [],
   "source": [
    "conn = sqlite3.connect('hw1.sqlite')\n",
    "edges_authors = []\n",
    "for row in conn.execute(query_pair_authors):\n",
    "    edges_authors.append(row)\n",
    "conn.close()\n",
    "edges_authors= pd.DataFrame(edges_authors,columns=['paper','author1','author2'])"
   ]
  },
  {
   "cell_type": "code",
   "execution_count": 17,
   "metadata": {},
   "outputs": [
    {
     "data": {
      "text/html": [
       "<div>\n",
       "<style scoped>\n",
       "    .dataframe tbody tr th:only-of-type {\n",
       "        vertical-align: middle;\n",
       "    }\n",
       "\n",
       "    .dataframe tbody tr th {\n",
       "        vertical-align: top;\n",
       "    }\n",
       "\n",
       "    .dataframe thead th {\n",
       "        text-align: right;\n",
       "    }\n",
       "</style>\n",
       "<table border=\"1\" class=\"dataframe\">\n",
       "  <thead>\n",
       "    <tr style=\"text-align: right;\">\n",
       "      <th></th>\n",
       "      <th>paper</th>\n",
       "      <th>author1</th>\n",
       "      <th>author2</th>\n",
       "    </tr>\n",
       "  </thead>\n",
       "  <tbody>\n",
       "    <tr>\n",
       "      <th>0</th>\n",
       "      <td>1</td>\n",
       "      <td>11</td>\n",
       "      <td>4</td>\n",
       "    </tr>\n",
       "    <tr>\n",
       "      <th>1</th>\n",
       "      <td>1</td>\n",
       "      <td>11</td>\n",
       "      <td>8</td>\n",
       "    </tr>\n",
       "    <tr>\n",
       "      <th>2</th>\n",
       "      <td>2</td>\n",
       "      <td>11</td>\n",
       "      <td>4</td>\n",
       "    </tr>\n",
       "    <tr>\n",
       "      <th>3</th>\n",
       "      <td>2</td>\n",
       "      <td>11</td>\n",
       "      <td>8</td>\n",
       "    </tr>\n",
       "    <tr>\n",
       "      <th>4</th>\n",
       "      <td>3</td>\n",
       "      <td>11</td>\n",
       "      <td>3</td>\n",
       "    </tr>\n",
       "  </tbody>\n",
       "</table>\n",
       "</div>"
      ],
      "text/plain": [
       "  paper author1 author2\n",
       "0     1      11       4\n",
       "1     1      11       8\n",
       "2     2      11       4\n",
       "3     2      11       8\n",
       "4     3      11       3"
      ]
     },
     "execution_count": 17,
     "metadata": {},
     "output_type": "execute_result"
    }
   ],
   "source": [
    "edges_authors.head()"
   ]
  },
  {
   "cell_type": "code",
   "execution_count": 18,
   "metadata": {},
   "outputs": [],
   "source": [
    "query_pair_papers = \"\"\"\n",
    "SELECT author_id,\n",
    "       a1.paper_id AS paper1,\n",
    "       a2.paper_id AS paper2\n",
    "FROM author_paper AS a1\n",
    "JOIN author_paper AS a2 USING (author_id)\n",
    "WHERE a1.paper_id < a2.paper_id;\n",
    "\"\"\""
   ]
  },
  {
   "cell_type": "code",
   "execution_count": 19,
   "metadata": {},
   "outputs": [],
   "source": [
    "conn = sqlite3.connect('hw1.sqlite')\n",
    "edges_papers = []\n",
    "for row in conn.execute(query_pair_papers):\n",
    "    edges_papers.append(row)\n",
    "conn.close()\n",
    "edges_papers = pd.DataFrame(edges_papers,columns=['author','paper1','paper2'])"
   ]
  },
  {
   "cell_type": "code",
   "execution_count": 20,
   "metadata": {},
   "outputs": [
    {
     "data": {
      "text/html": [
       "<div>\n",
       "<style scoped>\n",
       "    .dataframe tbody tr th:only-of-type {\n",
       "        vertical-align: middle;\n",
       "    }\n",
       "\n",
       "    .dataframe tbody tr th {\n",
       "        vertical-align: top;\n",
       "    }\n",
       "\n",
       "    .dataframe thead th {\n",
       "        text-align: right;\n",
       "    }\n",
       "</style>\n",
       "<table border=\"1\" class=\"dataframe\">\n",
       "  <thead>\n",
       "    <tr style=\"text-align: right;\">\n",
       "      <th></th>\n",
       "      <th>author</th>\n",
       "      <th>paper1</th>\n",
       "      <th>paper2</th>\n",
       "    </tr>\n",
       "  </thead>\n",
       "  <tbody>\n",
       "    <tr>\n",
       "      <th>0</th>\n",
       "      <td>11</td>\n",
       "      <td>1</td>\n",
       "      <td>10</td>\n",
       "    </tr>\n",
       "    <tr>\n",
       "      <th>1</th>\n",
       "      <td>11</td>\n",
       "      <td>1</td>\n",
       "      <td>11</td>\n",
       "    </tr>\n",
       "    <tr>\n",
       "      <th>2</th>\n",
       "      <td>11</td>\n",
       "      <td>1</td>\n",
       "      <td>12</td>\n",
       "    </tr>\n",
       "    <tr>\n",
       "      <th>3</th>\n",
       "      <td>11</td>\n",
       "      <td>1</td>\n",
       "      <td>2</td>\n",
       "    </tr>\n",
       "    <tr>\n",
       "      <th>4</th>\n",
       "      <td>11</td>\n",
       "      <td>1</td>\n",
       "      <td>3</td>\n",
       "    </tr>\n",
       "  </tbody>\n",
       "</table>\n",
       "</div>"
      ],
      "text/plain": [
       "  author paper1 paper2\n",
       "0     11      1     10\n",
       "1     11      1     11\n",
       "2     11      1     12\n",
       "3     11      1      2\n",
       "4     11      1      3"
      ]
     },
     "execution_count": 20,
     "metadata": {},
     "output_type": "execute_result"
    }
   ],
   "source": [
    "edges_papers.head()"
   ]
  },
  {
   "cell_type": "code",
   "execution_count": 21,
   "metadata": {},
   "outputs": [],
   "source": [
    "count_authors = edges_authors.groupby(['author1','author2']).count().reset_index()\n",
    "count_papers  = edges_papers.groupby(['paper1','paper2']).count().reset_index()"
   ]
  },
  {
   "cell_type": "code",
   "execution_count": 22,
   "metadata": {},
   "outputs": [],
   "source": [
    "G_authors = nx.Graph()\n",
    "G_papers = nx.Graph()"
   ]
  },
  {
   "cell_type": "code",
   "execution_count": 23,
   "metadata": {},
   "outputs": [],
   "source": [
    "for d in count_authors.to_dict('records'):\n",
    "    G_authors.add_edge(d['author1'],d['author2'],count = d['paper'])\n",
    "    \n",
    "for d in count_papers.to_dict('records'):\n",
    "    G_papers.add_edge(d['paper1'],d['paper2'],count = d['author'])"
   ]
  },
  {
   "cell_type": "code",
   "execution_count": 24,
   "metadata": {},
   "outputs": [
    {
     "name": "stderr",
     "output_type": "stream",
     "text": [
      "/home/davi/Envs/datascience/lib/python3.6/site-packages/networkx/drawing/nx_pylab.py:611: MatplotlibDeprecationWarning: isinstance(..., numbers.Number)\n",
      "  if cb.is_numlike(alpha):\n"
     ]
    },
    {
     "data": {
      "image/png": "[encoded data removed]",
      "text/plain": [
       "<Figure size 432x288 with 1 Axes>"
      ]
     },
     "metadata": {},
     "output_type": "display_data"
    }
   ],
   "source": [
    "weights = [G_authors[u][v]['count'] for u,v in G_authors.edges]\n",
    "nx.draw_spring(G_authors,width=weights)"
   ]
  },
  {
   "cell_type": "code",
   "execution_count": 25,
   "metadata": {},
   "outputs": [
    {
     "data": {
      "image/png": "[encoded data removed]",
      "text/plain": [
       "<Figure size 432x288 with 1 Axes>"
      ]
     },
     "metadata": {},
     "output_type": "display_data"
    }
   ],
   "source": [
    "nx.draw_spring(G_papers)"
   ]
  },
  {
   "cell_type": "code",
   "execution_count": null,
   "metadata": {},
   "outputs": [],
   "source": [
    "edges_papers.groupby(['paper1','paper2']).count().reset_index()"
   ]
  },
  {
   "cell_type": "code",
   "execution_count": null,
   "metadata": {},
   "outputs": [],
   "source": []
  },
  {
   "cell_type": "code",
   "execution_count": null,
   "metadata": {},
   "outputs": [],
   "source": []
  },
  {
   "cell_type": "code",
   "execution_count": 15,
   "metadata": {},
   "outputs": [],
   "source": [
    "from database_app import Create_DB,Insert_Data"
   ]
  },
  {
   "cell_type": "code",
   "execution_count": 14,
   "metadata": {},
   "outputs": [],
   "source": [
    "Create_DB()"
   ]
  },
  {
   "cell_type": "code",
   "execution_count": 16,
   "metadata": {},
   "outputs": [],
   "source": [
    "Insert_Data(papers)"
   ]
  },
  {
   "cell_type": "code",
   "execution_count": 17,
   "metadata": {},
   "outputs": [
    {
     "name": "stdout",
     "output_type": "stream",
     "text": [
      "(1, 'Sequential Monte Carlo samplers for capital allocation under copula-dependent risk models')\n",
      "(2, 'Understanding operational risk capital approximations: First and second orders')\n",
      "(3, 'Optimal exercise strategies for operational risk insurance via multiple stopping times')\n",
      "(4, 'Bayesian modelling, Monte Carlo sampling and capital allocation of insurance risks')\n",
      "(5, 'Full bayesian analysis of claims reserving uncertainty')\n",
      "(6, 'Bayesian Approach for Parameter Estimation of Continuous-Time Stochastic Volatility Models using Fourier Transform Methods')\n",
      "(7, 'The Impact of the Freedom of the Press on Risk')\n",
      "(8, 'SMC samplers for capital allocation under copula-dependent risk models')\n",
      "(9, 'Teoremas de Nao-Arbitragem em Mercados Regidos pelo Movimento Browniano Fracionário')\n",
      "(10, 'SMC samplers, rare events and the allocation of risks in finance')\n",
      "(11, 'Hedging in Incomplete Markets Using Fourier Series Method')\n",
      "(12, 'Bayesian Selection for Heston Models with Volatilities Determined by Fourier Series Method')\n"
     ]
    }
   ],
   "source": [
    "conn = sqlite3.connect('hw1.sqlite',timeout=10)\n",
    "for row in conn.execute('SELECT * FROM paper'):\n",
    "    print(row)\n",
    "conn.close()"
   ]
  },
  {
   "cell_type": "code",
   "execution_count": null,
   "metadata": {},
   "outputs": [],
   "source": []
  }
 ],
 "metadata": {
  "kernelspec": {
   "display_name": "Python3(datascience)",
   "language": "python",
   "name": "datascience"
  },
  "language_info": {
   "codemirror_mode": {
    "name": "ipython",
    "version": 3
   },
   "file_extension": ".py",
   "mimetype": "text/x-python",
   "name": "python",
   "nbconvert_exporter": "python",
   "pygments_lexer": "ipython3",
   "version": "3.6.8"
  }
 },
 "nbformat": 4,
 "nbformat_minor": 2
}
