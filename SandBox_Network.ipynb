{
 "cells": [
  {
   "cell_type": "code",
   "execution_count": 1,
   "metadata": {
    "scrolled": true
   },
   "outputs": [
    {
     "data": {
      "text/plain": [
       "RendererRegistry.enable('notebook')"
      ]
     },
     "execution_count": 1,
     "metadata": {},
     "output_type": "execute_result"
    }
   ],
   "source": [
    "%matplotlib inline\n",
    "from matplotlib import pyplot as plt\n",
    "import sqlite3\n",
    "import pandas as pd\n",
    "import networkx as nx\n",
    "import altair as alt\n",
    "alt.renderers.enable('notebook')"
   ]
  },
  {
   "cell_type": "markdown",
   "metadata": {},
   "source": [
    "# Importando dados e criando network "
   ]
  },
  {
   "cell_type": "code",
   "execution_count": 2,
   "metadata": {},
   "outputs": [],
   "source": [
    "DATABASE = 'hw1_test.sqlite'\n",
    "papers = []\n",
    "authors = []\n",
    "conn = sqlite3.connect(DATABASE,timeout=10)\n",
    "for row in conn.execute('SELECT * FROM paper'):\n",
    "    papers.append({'id':row[0],'paper_name':row[1]})\n",
    "conn.close()\n",
    "\n",
    "conn = sqlite3.connect(DATABASE,timeout=10)\n",
    "for row in conn.execute('SELECT * FROM author'):\n",
    "    authors.append({'id':row[0],'author_name':row[1]})\n",
    "conn.close()"
   ]
  },
  {
   "cell_type": "code",
   "execution_count": 3,
   "metadata": {},
   "outputs": [],
   "source": [
    "# Cria lista de arestas para rede de autores\n",
    "query_pair_authors = \"\"\"\n",
    "SELECT paper_id,\n",
    "       a1.author_id AS author1,\n",
    "       a2.author_id AS author2\n",
    "FROM author_paper AS a1\n",
    "JOIN author_paper AS a2 USING (paper_id)\n",
    "WHERE a1.author_id < a2.author_id;\n",
    "\"\"\"\n",
    "conn = sqlite3.connect(DATABASE,timeout=10)\n",
    "edges_authors = []\n",
    "for row in conn.execute(query_pair_authors):\n",
    "    edges_authors.append(row)\n",
    "conn.close()\n",
    "edges_authors= pd.DataFrame(edges_authors,dtype=int,columns=['paper','author1',\n",
    "                                                             'author2']).applymap(lambda x: int(x))\n",
    "\n",
    "# Cria lista de arestas para rede de papers\n",
    "query_pair_papers = \"\"\"\n",
    "SELECT author_id,\n",
    "       a1.paper_id AS paper1,\n",
    "       a2.paper_id AS paper2\n",
    "FROM author_paper AS a1\n",
    "JOIN author_paper AS a2 USING (author_id)\n",
    "WHERE a1.paper_id < a2.paper_id;\n",
    "\"\"\"\n",
    "conn = sqlite3.connect(DATABASE, timeout=10)\n",
    "edges_papers = []\n",
    "for row in conn.execute(query_pair_papers):\n",
    "    edges_papers.append(row)\n",
    "conn.close()\n",
    "edges_papers = pd.DataFrame(edges_papers,columns=['author',\n",
    "                                                  'paper1','paper2']).applymap(lambda x: int(x))\n",
    "\n",
    "\n",
    "count_authors = edges_authors.groupby(['author1','author2']).count().reset_index()\n",
    "count_papers  = edges_papers.groupby(['paper1','paper2']).count().reset_index()\n",
    "\n",
    "edges_papers['author'] = edges_papers['author'].apply(lambda x: str(x)) \n",
    "count_papers  = edges_papers.groupby(['paper1','paper2']).agg(lambda x: ','.join(x)).reset_index()\n",
    "# count_papers  = edges_papers.groupby(['paper1',\n",
    "#' paper2']).agg({'author':[lambda x: ','.join(x),'count']}).reset_index()\n",
    "\n",
    "count_papers['author'] = count_papers['author'].apply(lambda x: x.split(','))"
   ]
  },
  {
   "cell_type": "code",
   "execution_count": 4,
   "metadata": {},
   "outputs": [],
   "source": [
    "count_papers['count'] = count_papers['author'].apply(lambda x: len(x))"
   ]
  },
  {
   "cell_type": "code",
   "execution_count": null,
   "metadata": {},
   "outputs": [],
   "source": []
  },
  {
   "cell_type": "code",
   "execution_count": 5,
   "metadata": {},
   "outputs": [
    {
     "data": {
      "text/html": [
       "<div>\n",
       "<style scoped>\n",
       "    .dataframe tbody tr th:only-of-type {\n",
       "        vertical-align: middle;\n",
       "    }\n",
       "\n",
       "    .dataframe tbody tr th {\n",
       "        vertical-align: top;\n",
       "    }\n",
       "\n",
       "    .dataframe thead th {\n",
       "        text-align: right;\n",
       "    }\n",
       "</style>\n",
       "<table border=\"1\" class=\"dataframe\">\n",
       "  <thead>\n",
       "    <tr style=\"text-align: right;\">\n",
       "      <th></th>\n",
       "      <th>author_id</th>\n",
       "      <th>authors</th>\n",
       "      <th>paper_id</th>\n",
       "      <th>paper_name</th>\n",
       "    </tr>\n",
       "  </thead>\n",
       "  <tbody>\n",
       "    <tr>\n",
       "      <th>0</th>\n",
       "      <td>11</td>\n",
       "      <td>RS Targino</td>\n",
       "      <td>1</td>\n",
       "      <td>Sequential Monte Carlo samplers for capital al...</td>\n",
       "    </tr>\n",
       "    <tr>\n",
       "      <th>1</th>\n",
       "      <td>11</td>\n",
       "      <td>RS Targino</td>\n",
       "      <td>2</td>\n",
       "      <td>Understanding operational risk capital approxi...</td>\n",
       "    </tr>\n",
       "    <tr>\n",
       "      <th>2</th>\n",
       "      <td>11</td>\n",
       "      <td>RS Targino</td>\n",
       "      <td>3</td>\n",
       "      <td>Optimal exercise strategies for operational ri...</td>\n",
       "    </tr>\n",
       "    <tr>\n",
       "      <th>3</th>\n",
       "      <td>11</td>\n",
       "      <td>RS Targino</td>\n",
       "      <td>5</td>\n",
       "      <td>Full bayesian analysis of claims reserving unc...</td>\n",
       "    </tr>\n",
       "    <tr>\n",
       "      <th>4</th>\n",
       "      <td>11</td>\n",
       "      <td>RS Targino</td>\n",
       "      <td>6</td>\n",
       "      <td>Bayesian Approach for Parameter Estimation of ...</td>\n",
       "    </tr>\n",
       "  </tbody>\n",
       "</table>\n",
       "</div>"
      ],
      "text/plain": [
       "  author_id     authors paper_id  \\\n",
       "0        11  RS Targino        1   \n",
       "1        11  RS Targino        2   \n",
       "2        11  RS Targino        3   \n",
       "3        11  RS Targino        5   \n",
       "4        11  RS Targino        6   \n",
       "\n",
       "                                          paper_name  \n",
       "0  Sequential Monte Carlo samplers for capital al...  \n",
       "1  Understanding operational risk capital approxi...  \n",
       "2  Optimal exercise strategies for operational ri...  \n",
       "3  Full bayesian analysis of claims reserving unc...  \n",
       "4  Bayesian Approach for Parameter Estimation of ...  "
      ]
     },
     "execution_count": 5,
     "metadata": {},
     "output_type": "execute_result"
    }
   ],
   "source": [
    "query_pair_papers = \"\"\"\n",
    "SELECT  ap.author_id,\n",
    "        a.author_name,\n",
    "        ap.paper_id,\n",
    "        p.paper_name\n",
    "FROM author_paper AS ap\n",
    "INNER JOIN author AS a ON ap.author_id = a.id\n",
    "INNER JOIN paper AS p ON ap.paper_id = p.id\n",
    "\"\"\"\n",
    "conn = sqlite3.connect(DATABASE, timeout=10)\n",
    "df = []\n",
    "for row in conn.execute(query_pair_papers):\n",
    "    df.append(row)\n",
    "conn.close()\n",
    "df = pd.DataFrame(df,columns=['author_id','authors','paper_id','paper_name'])\n",
    "df.head()"
   ]
  },
  {
   "cell_type": "code",
   "execution_count": 6,
   "metadata": {},
   "outputs": [],
   "source": [
    "df_papers  = df.groupby(['paper_name','paper_id']).agg(lambda x: ','.join(x)).reset_index()"
   ]
  },
  {
   "cell_type": "code",
   "execution_count": 20,
   "metadata": {},
   "outputs": [],
   "source": [
    "# Inserindo somente os nós e seus atributos\n",
    "\n",
    "G_authors = nx.Graph()\n",
    "G_papers = nx.Graph()\n",
    "\n",
    "for d in authors:\n",
    "    node_id = int(d['id'])\n",
    "    G_authors.add_node(node_id, **d) \n",
    "    \n",
    "for d in df_papers.iterrows():\n",
    "    node_id = int(d[1]['paper_id'])\n",
    "    G_papers.add_node(node_id, **d[1]) \n"
   ]
  },
  {
   "cell_type": "code",
   "execution_count": 22,
   "metadata": {},
   "outputs": [
    {
     "data": {
      "image/png": "[encoded data removed]",
      "text/plain": [
       "<Figure size 2160x360 with 1 Axes>"
      ]
     },
     "metadata": {},
     "output_type": "display_data"
    }
   ],
   "source": [
    "plt.figure(figsize=(30,5))\n",
    "labels_author=dict((n,d['author_name']) for n,d in G_authors.nodes(data=True))\n",
    "nx.draw_spring(G_authors,labels=labels_author,with_labels=True)"
   ]
  },
  {
   "cell_type": "code",
   "execution_count": 23,
   "metadata": {},
   "outputs": [],
   "source": [
    "# Inserir as arestas\n",
    "for d in count_authors.to_dict('records'):\n",
    "    G_authors.add_edge(d['author1'],d['author2'],count = d['paper'])\n",
    "    \n",
    "for d in count_papers.to_dict('records'):\n",
    "    G_papers.add_edge(d['paper1'],d['paper2'],count = d['author'])"
   ]
  },
  {
   "cell_type": "code",
   "execution_count": null,
   "metadata": {},
   "outputs": [],
   "source": [
    "plt.figure(figsize=(10,4))\n",
    "nx.draw_spring(G_authors,with_labels=True,labels=labels_author)"
   ]
  },
  {
   "cell_type": "code",
   "execution_count": 26,
   "metadata": {},
   "outputs": [
    {
     "name": "stderr",
     "output_type": "stream",
     "text": [
      "/home/davi/Envs/datascience/lib/python3.6/site-packages/networkx/drawing/nx_pylab.py:611: MatplotlibDeprecationWarning: isinstance(..., numbers.Number)\n",
      "  if cb.is_numlike(alpha):\n"
     ]
    },
    {
     "data": {
      "image/png": "[encoded data removed]",
      "text/plain": [
       "<Figure size 720x288 with 1 Axes>"
      ]
     },
     "metadata": {},
     "output_type": "display_data"
    }
   ],
   "source": [
    "labels_paper =dict((n,d['paper_name']) for n,d in G_papers.nodes(data=True))\n",
    "plt.figure(figsize=(10,4))\n",
    "nx.draw_spring(G_papers,with_labels=False,labels=labels_paper)"
   ]
  },
  {
   "cell_type": "markdown",
   "metadata": {},
   "source": [
    "# Utilizando Altair \n",
    "Para criar o grafo, precisamos de uma base de dados com as posições de cada nó, além de um índice para cada par.\n",
    "Assim, iremos criar um plot para cada par, como se fosse uma categoria.\n",
    "\n",
    "Vamos começar utilizando o repositório nx_altair"
   ]
  },
  {
   "cell_type": "code",
   "execution_count": null,
   "metadata": {},
   "outputs": [],
   "source": [
    "G_authors"
   ]
  },
  {
   "cell_type": "code",
   "execution_count": null,
   "metadata": {},
   "outputs": [],
   "source": [
    "#Obter a posicao de cada node\n",
    "# df_authors = []\n",
    "# pos = nx.spring_layout(G_authors,)\n",
    "# for n in G_authors.nodes(data=True):\n",
    "#     df_authors.append([n[0],n[1]['author_name'],pos[n[0]][0],pos[n[0]][1]])"
   ]
  },
  {
   "cell_type": "code",
   "execution_count": null,
   "metadata": {},
   "outputs": [],
   "source": [
    "from nx_altair import draw_networkx"
   ]
  },
  {
   "cell_type": "code",
   "execution_count": null,
   "metadata": {},
   "outputs": [],
   "source": []
  },
  {
   "cell_type": "code",
   "execution_count": null,
   "metadata": {},
   "outputs": [],
   "source": [
    "# Nota - Modifiquei o arquivo original do nx_altair para possibilitar plotar lado a lado\n",
    "# O que foi removido foi o configure_axis da funcao\n",
    "interval = alt.selection_multi(encodings=['x','y'])\n",
    "brush    = alt.selection_multi(encodings=['x','y'])\n",
    "\n",
    "pos = nx.spring_layout(G_authors)\n",
    "chart_authors = draw_networkx(G_authors,pos,node_tooltip='author_name').interactive()\n",
    "\n",
    "edges = chart_authors.layer[0]\n",
    "nodes = chart_authors.layer[1].encode(\n",
    "    fill = alt.condition(interval,alt.value('blue'),alt.value('lightgray')),\n",
    ").properties(selection=interval)\n",
    "\n",
    "chart_papers  = draw_networkx(G_papers,pos,node_tooltip='paper_name')\n",
    "print(interval)\n",
    "edges+nodes | chart_papers.layer[1]"
   ]
  },
  {
   "cell_type": "code",
   "execution_count": null,
   "metadata": {},
   "outputs": [],
   "source": []
  },
  {
   "cell_type": "code",
   "execution_count": null,
   "metadata": {},
   "outputs": [],
   "source": []
  },
  {
   "cell_type": "code",
   "execution_count": null,
   "metadata": {},
   "outputs": [],
   "source": []
  },
  {
   "cell_type": "code",
   "execution_count": null,
   "metadata": {},
   "outputs": [],
   "source": []
  },
  {
   "cell_type": "code",
   "execution_count": null,
   "metadata": {},
   "outputs": [],
   "source": []
  },
  {
   "cell_type": "code",
   "execution_count": null,
   "metadata": {},
   "outputs": [],
   "source": []
  },
  {
   "cell_type": "code",
   "execution_count": null,
   "metadata": {},
   "outputs": [],
   "source": []
  },
  {
   "cell_type": "code",
   "execution_count": null,
   "metadata": {},
   "outputs": [],
   "source": [
    "def to_pandas_nodes(G, pos):\n",
    "    \"\"\"Convert Graph nodes to pandas DataFrame that's readable to Altair.\n",
    "    \"\"\"\n",
    "    # Get all attributes in nodes\n",
    "    attributes = ['x', 'y']\n",
    "    for n in G.nodes():\n",
    "        attributes += list(G.nodes[n].keys())\n",
    "    attributes = list(set(attributes))\n",
    "\n",
    "    # Build a dataframe for all nodes and their attributes\n",
    "    df = pd.DataFrame(\n",
    "        index=G.nodes(),\n",
    "        columns=attributes\n",
    "    )\n",
    "\n",
    "    # Add node data to dataframe.\n",
    "    for n in G.nodes:\n",
    "        data = dict(\n",
    "            x=pos[n][0],\n",
    "            y=pos[n][1],\n",
    "            **G.nodes[n]\n",
    "        )\n",
    "        df.loc[n] = data\n",
    "\n",
    "    return df\n",
    "\n",
    "def to_pandas_edges(G, pos, **kwargs):\n",
    "    \"\"\"Convert Graph edges to pandas DataFrame that's readable to Altair.\n",
    "    \"\"\"\n",
    "    # Get all attributes in nodes\n",
    "    attributes = ['source', 'target', 'x', 'y', 'edge', 'pair']\n",
    "    for e in G.edges():\n",
    "        attributes += list(G.edges[e].keys())\n",
    "    attributes = list(set(attributes))\n",
    "\n",
    "\n",
    "    # Build a dataframe for all edges and their attributes\n",
    "    df = pd.DataFrame(\n",
    "        index=range(G.size()*2),\n",
    "        columns=attributes\n",
    "    )\n",
    "\n",
    "\n",
    "    # Add node data to dataframe.\n",
    "    for i, e in enumerate(G.edges):\n",
    "        idx = i*2\n",
    "\n",
    "        data1 = dict(\n",
    "            edge=i,\n",
    "            source=e[0],\n",
    "            target=e[1],\n",
    "            pair=e,\n",
    "            x=pos[e[0]][0],\n",
    "            y=pos[e[0]][1],\n",
    "            **G.edges[e]\n",
    "        )\n",
    "\n",
    "        data2 = dict(\n",
    "            edge=i,\n",
    "            source=e[0],\n",
    "            target=e[1],\n",
    "            pair=e,\n",
    "            x=pos[e[1]][0],\n",
    "            y=pos[e[1]][1],\n",
    "            **G.edges[e]\n",
    "        )\n",
    "\n",
    "        df.loc[idx] = data1\n",
    "        df.loc[idx+1] = data2\n",
    "\n",
    "    return df"
   ]
  },
  {
   "cell_type": "code",
   "execution_count": null,
   "metadata": {},
   "outputs": [],
   "source": [
    "pos = nx.spring_layout(G_authors)\n",
    "df_nodes_authors = to_pandas_nodes(G_authors,pos)\n",
    "df_nodes_authors['author_id'] = df_nodes_authors.index\n",
    "df_edges_authors = to_pandas_edges(G_authors,pos)"
   ]
  },
  {
   "cell_type": "code",
   "execution_count": null,
   "metadata": {},
   "outputs": [],
   "source": [
    "df_authors = pd.merge(df_nodes_authors,df_edges_authors,\n",
    "     left_on='author_id',right_on='source',suffixes=('_source','_target'))\n",
    "df_authors = pd.merge(df_authors,df_nodes_authors,left_on='target',right_on='author_id',\n",
    "                     suffixes=('_source','_target'))"
   ]
  },
  {
   "cell_type": "code",
   "execution_count": null,
   "metadata": {},
   "outputs": [],
   "source": [
    "df_authors.head()"
   ]
  },
  {
   "cell_type": "code",
   "execution_count": null,
   "metadata": {},
   "outputs": [],
   "source": [
    "chart = alt.Chart(df_authors).mark_line(point=True).encode(\n",
    "    x = 'x_source',\n",
    "    y = 'y_source',\n",
    "    color='edge:N'\n",
    ")\n",
    "chart"
   ]
  },
  {
   "cell_type": "code",
   "execution_count": null,
   "metadata": {},
   "outputs": [],
   "source": [
    "interval = alt.selection_interval(encodings=['x','y'])\n",
    "interval = alt.selection_multi(encodings=['x','y'])\n",
    "\n",
    "chart = alt.Chart(df_nodes_authors).mark_circle().encode(\n",
    "    x = 'x',\n",
    "    y = 'y',\n",
    "    color = alt.condition(interval,alt.value('blue'),alt.value('lightgray')),\n",
    "    tooltip = 'author_name'\n",
    ").properties(selection=interval)\n",
    "\n",
    "hist = alt.Chart(df_nodes_authors).mark_bar().encode(\n",
    "    x = alt.X('x',bin=True),\n",
    "    y = 'count()'\n",
    "#     y = alt.Y('y',bin=True),\n",
    "#     color = 'count()'\n",
    ").transform_filter(interval)\n",
    "\n",
    "chart | hist\n",
    "\n",
    "# chart | chart.encode(x='y')\n",
    "# alt.vconcat(chart,chart.encode(x='y'))\n",
    "# chart | chart.encode(x='y')"
   ]
  },
  {
   "cell_type": "code",
   "execution_count": null,
   "metadata": {},
   "outputs": [],
   "source": [
    "single = alt.selection_single(encodings=['x','y'])\n",
    "\n",
    "chart = alt.Chart(df_nodes_authors).mark_circle(size=100).encode(\n",
    "    x = 'x',\n",
    "    y = 'y',\n",
    "    color = alt.condition(single,'y',alt.value('lightgray')),\n",
    "    tooltip = 'author_name'\n",
    ").properties(selection=single)\n",
    "\n",
    "chart"
   ]
  },
  {
   "cell_type": "code",
   "execution_count": null,
   "metadata": {
    "scrolled": true
   },
   "outputs": [],
   "source": [
    "df_edges_authors\n",
    "df_nodes_authors\n",
    "\n",
    "A = nx.to_pandas_edgelist(G_authors)\n",
    "A\n",
    "df_edges_authors\n",
    "#abs single = alt.selection_single(encodings=['x','y'])\n",
    "\n",
    "# chart = alt.Chart(df_nodes_authors).mark_circle(size=100).encode(\n",
    "#     x = 'x',\n",
    "#     y = 'y',\n",
    "#     color = alt.condition(single,'y',alt.value('lightgray')),\n",
    "#     tooltip = 'author_name'\n",
    "# ).properties(selection=single)\n",
    "\n",
    "# chart"
   ]
  },
  {
   "cell_type": "code",
   "execution_count": null,
   "metadata": {},
   "outputs": [],
   "source": [
    "nx"
   ]
  },
  {
   "cell_type": "code",
   "execution_count": null,
   "metadata": {},
   "outputs": [],
   "source": []
  }
 ],
 "metadata": {
  "kernelspec": {
   "display_name": "Python3(datascience)",
   "language": "python",
   "name": "datascience"
  },
  "language_info": {
   "codemirror_mode": {
    "name": "ipython",
    "version": 3
   },
   "file_extension": ".py",
   "mimetype": "text/x-python",
   "name": "python",
   "nbconvert_exporter": "python",
   "pygments_lexer": "ipython3",
   "version": "3.6.8"
  }
 },
 "nbformat": 4,
 "nbformat_minor": 2
}
