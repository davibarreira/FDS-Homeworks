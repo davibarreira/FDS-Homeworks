{
 "cells": [
  {
   "cell_type": "code",
   "execution_count": 1,
   "metadata": {
    "scrolled": true
   },
   "outputs": [
    {
     "data": {
      "text/plain": [
       "RendererRegistry.enable('notebook')"
      ]
     },
     "execution_count": 1,
     "metadata": {},
     "output_type": "execute_result"
    }
   ],
   "source": [
    "%matplotlib inline\n",
    "from matplotlib import pyplot as plt\n",
    "import sqlite3\n",
    "import pandas as pd\n",
    "import networkx as nx\n",
    "import altair as alt\n",
    "alt.renderers.enable('notebook')"
   ]
  },
  {
   "cell_type": "code",
   "execution_count": 2,
   "metadata": {
    "scrolled": true
   },
   "outputs": [],
   "source": [
    "DATABASE = 'hw1_test.sqlite'\n",
    "\n",
    "# papers = []\n",
    "# authors = []\n",
    "# conn = sqlite3.connect(DATABASE,timeout=10)\n",
    "# for row in conn.execute('SELECT * FROM paper'):\n",
    "#     papers.append({'id':row[0],'paper_name':row[1]})\n",
    "# conn.close()"
   ]
  },
  {
   "cell_type": "code",
   "execution_count": 3,
   "metadata": {},
   "outputs": [],
   "source": [
    "\n",
    "def Select_All(db,table,field):\n",
    "    results = []\n",
    "    conn = sqlite3.connect(DATABASE,timeout=10)\n",
    "    for row in conn.execute('SELECT * FROM {}'.format(table)):\n",
    "        results.append({'id':row[0],field:row[1]})\n",
    "    conn.close()\n",
    "    return results\n",
    "    \n",
    "def Flat_Dataframe(db):\n",
    "    DATABASE = db\n",
    "    query_pair_papers = \"\"\"\n",
    "    SELECT  ap.author_id,\n",
    "            a.author_name,\n",
    "            ap.paper_id,\n",
    "            p.paper_name\n",
    "    FROM author_paper AS ap\n",
    "    INNER JOIN author AS a ON ap.author_id = a.id\n",
    "    INNER JOIN paper AS p ON ap.paper_id = p.id\n",
    "    \"\"\"\n",
    "    conn = sqlite3.connect(DATABASE, timeout=10)\n",
    "    df = []\n",
    "    for row in conn.execute(query_pair_papers):\n",
    "        df.append(row)\n",
    "    conn.close()\n",
    "    df = pd.DataFrame(df,columns=['author_id','authors','paper_id','paper_name'])\n",
    "    df['author_id'] = df['author_id'].apply(lambda x: int(x))\n",
    "    df['paper_id'] = df['paper_id'].apply(lambda x: int(x))\n",
    "    return df\n",
    "\n",
    "def Generate_Edges_Authors(db):\n",
    "    DATABASE = db\n",
    "# Cria lista de arestas para rede de autores\n",
    "    query_pair_authors = \"\"\"\n",
    "    SELECT paper_id,\n",
    "           a1.author_id AS author1,\n",
    "           a2.author_id AS author2\n",
    "    FROM author_paper AS a1\n",
    "    JOIN author_paper AS a2 USING (paper_id)\n",
    "    WHERE a1.author_id < a2.author_id;\n",
    "    \"\"\"\n",
    "    conn = sqlite3.connect(DATABASE,timeout=10)\n",
    "    edges_authors = []\n",
    "    for row in conn.execute(query_pair_authors):\n",
    "        edges_authors.append(row)\n",
    "    conn.close()\n",
    "    edges_authors= pd.DataFrame(edges_authors,dtype=int,columns=['paper','author1',\n",
    "                                                                 'author2']).applymap(lambda x: int(x))\n",
    "    \n",
    "    count_authors = edges_authors.groupby(['author1','author2']).count().reset_index()\n",
    "    return count_authors\n",
    "\n",
    "\n",
    "def Generate_Edges_Papers(db):\n",
    "    DATABASE = db\n",
    "# Cria lista de arestas para rede de papers\n",
    "    query_pair_papers = \"\"\"\n",
    "    SELECT author_id,\n",
    "           a1.paper_id AS paper1,\n",
    "           a2.paper_id AS paper2\n",
    "    FROM author_paper AS a1\n",
    "    JOIN author_paper AS a2 USING (author_id)\n",
    "    WHERE a1.paper_id < a2.paper_id;\n",
    "    \"\"\"\n",
    "    conn = sqlite3.connect(DATABASE, timeout=10)\n",
    "    edges_papers = []\n",
    "    for row in conn.execute(query_pair_papers):\n",
    "        edges_papers.append(row)\n",
    "    conn.close()\n",
    "    edges_papers = pd.DataFrame(edges_papers,dtype = int,columns=['author',\n",
    "                                                      'paper1','paper2']).applymap(lambda x: int(x))\n",
    "    \n",
    "    count_papers  = edges_papers.groupby(['paper1','paper2']).count().reset_index()\n",
    "    \n",
    "    return count_papers\n",
    "    \n",
    "\n",
    "def Create_Network(nodes,edges,source='source', target='target',weight='weight'):\n",
    "    G = nx.Graph()\n",
    "    \n",
    "    for d in nodes:\n",
    "        node_id = int(d['id'])\n",
    "        G.add_node(node_id, **d) \n",
    "    \n",
    "    for d in edges.to_dict('records'):\n",
    "        G.add_edge(d[source],d[target],count = d[weight])\n",
    "    \n",
    "    pos = nx.spring_layout(G)\n",
    "    pos = pd.DataFrame(pos).transpose()\n",
    "    \n",
    "    pos['id'] = pos.index\n",
    "    pos.columns = ['x','y','id']\n",
    "\n",
    "    \n",
    "    return (G, pos)"
   ]
  },
  {
   "cell_type": "code",
   "execution_count": 4,
   "metadata": {},
   "outputs": [],
   "source": [
    "authors       = Select_All(DATABASE,table='author',field='author_name')\n",
    "papers        = Select_All(DATABASE,table='paper',field='paper_name')\n",
    "edges_authors = Generate_Edges_Authors(DATABASE) \n",
    "edges_papers  = Generate_Edges_Papers(DATABASE) \n",
    "df            = Flat_Dataframe(DATABASE)"
   ]
  },
  {
   "cell_type": "code",
   "execution_count": 6,
   "metadata": {},
   "outputs": [],
   "source": [
    "G_authors, pos_authors = Create_Network(authors,edges_authors,'author1','author2','paper')\n",
    "G_papers, pos_papers   = Create_Network(papers,edges_papers,'paper1','paper2','author')"
   ]
  },
  {
   "cell_type": "markdown",
   "metadata": {},
   "source": [
    "# Implementando em Altair"
   ]
  },
  {
   "cell_type": "code",
   "execution_count": 125,
   "metadata": {},
   "outputs": [],
   "source": [
    "# pd.DataFrame(index=range(G_authors.size()*2))\n",
    "def Grafos_Edges(G,pos):\n",
    "    pairs = []\n",
    "    for e1, e2 in G.edges:\n",
    "        pairs.append([e1,e2,str(e1)+','+str(e2)])\n",
    "    for e1, e2 in G.edges:\n",
    "        pairs.append([e2,e1,str(e1)+','+str(e2)])\n",
    "    \n",
    "    pairs =  pd.DataFrame(pairs,columns=['id','id_','pair'])\n",
    "\n",
    "    return pd.merge(pos,pairs,on='id')"
   ]
  },
  {
   "cell_type": "code",
   "execution_count": 126,
   "metadata": {},
   "outputs": [],
   "source": [
    "graf_egdes_authors = Grafos_Edges(G_authors,pos_authors)\n",
    "graf_egdes_papers  = Grafos_Edges(G_papers,pos_papers)"
   ]
  },
  {
   "cell_type": "code",
   "execution_count": 127,
   "metadata": {},
   "outputs": [],
   "source": [
    "# def Grafos_Nodes(G)\n",
    "df = pd.merge(df,pos_authors,left_on='author_id',right_on='id',how='left')\n",
    "df = pd.merge(df,pos_papers,left_on='paper_id',right_on='id',suffixes=('_a','_p'),how='left')"
   ]
  },
  {
   "cell_type": "code",
   "execution_count": 128,
   "metadata": {},
   "outputs": [
    {
     "data": {
      "application/javascript": [
       "var spec = {\"config\": {\"view\": {\"width\": 400, \"height\": 300}, \"mark\": {\"tooltip\": null}}, \"hconcat\": [{\"layer\": [{\"data\": {\"name\": \"data-8d6064ca4098f0d9608dc9ac318f5450\"}, \"mark\": \"line\", \"encoding\": {\"color\": {\"value\": \"black\"}, \"detail\": {\"type\": \"nominal\", \"field\": \"pair\"}, \"opacity\": {\"value\": 1}, \"x\": {\"type\": \"quantitative\", \"field\": \"x\"}, \"y\": {\"type\": \"quantitative\", \"field\": \"y\"}}, \"selection\": {\"selector032\": {\"type\": \"interval\", \"bind\": \"scales\", \"encodings\": [\"x\", \"y\"]}}}, {\"data\": {\"name\": \"data-a6f8d82e1bb312e505af80056814ae58\"}, \"mark\": {\"type\": \"circle\", \"size\": 200}, \"encoding\": {\"fill\": {\"value\": \"lightgray\", \"condition\": {\"value\": \"blue\", \"selection\": \"selector031\"}}, \"opacity\": {\"value\": 1}, \"tooltip\": {\"type\": \"nominal\", \"field\": \"authors\"}, \"x\": {\"type\": \"quantitative\", \"field\": \"x_a\"}, \"y\": {\"type\": \"quantitative\", \"field\": \"y_a\"}}, \"selection\": {\"selector031\": {\"type\": \"multi\", \"fields\": [\"authors\"]}}}]}, {\"layer\": [{\"data\": {\"name\": \"data-2c6582d83fbc034e5116d83b9659cb0c\"}, \"mark\": \"line\", \"encoding\": {\"color\": {\"value\": \"black\"}, \"detail\": {\"type\": \"nominal\", \"field\": \"pair\"}, \"opacity\": {\"value\": 1}, \"x\": {\"type\": \"quantitative\", \"field\": \"x\"}, \"y\": {\"type\": \"quantitative\", \"field\": \"y\"}}, \"selection\": {\"selector033\": {\"type\": \"interval\", \"bind\": \"scales\", \"encodings\": [\"x\", \"y\"]}}}, {\"data\": {\"name\": \"data-a6f8d82e1bb312e505af80056814ae58\"}, \"mark\": {\"type\": \"circle\", \"size\": 200}, \"encoding\": {\"fill\": {\"value\": \"lightgray\", \"condition\": {\"value\": \"red\", \"selection\": \"selector031\"}}, \"opacity\": {\"value\": 0.8, \"condition\": {\"value\": 1, \"selection\": \"selector031\"}}, \"tooltip\": {\"type\": \"nominal\", \"field\": \"paper_name\"}, \"x\": {\"type\": \"quantitative\", \"field\": \"x_p\"}, \"y\": {\"type\": \"quantitative\", \"field\": \"y_p\"}}}]}], \"$schema\": \"https://vega.github.io/schema/vega-lite/v3.3.0.json\", \"datasets\": {\"data-8d6064ca4098f0d9608dc9ac318f5450\": [{\"x\": 0.7575736810125401, \"y\": -0.5085387795034403, \"id\": 1, \"id_\": 9, \"pair\": \"1,9\"}, {\"x\": 0.7575736810125401, \"y\": -0.5085387795034403, \"id\": 1, \"id_\": 12, \"pair\": \"1,12\"}, {\"x\": 0.7575736810125401, \"y\": -0.5085387795034403, \"id\": 1, \"id_\": 23, \"pair\": \"1,23\"}, {\"x\": 0.7575736810125401, \"y\": -0.5085387795034403, \"id\": 1, \"id_\": 24, \"pair\": \"1,24\"}, {\"x\": 0.6799045561507326, \"y\": -0.7150418106656136, \"id\": 2, \"id_\": 6, \"pair\": \"2,6\"}, {\"x\": 0.6799045561507326, \"y\": -0.7150418106656136, \"id\": 2, \"id_\": 9, \"pair\": \"2,9\"}, {\"x\": -0.39655784547798295, \"y\": 0.05424546083279312, \"id\": 3, \"id_\": 4, \"pair\": \"3,4\"}, {\"x\": -0.39655784547798295, \"y\": 0.05424546083279312, \"id\": 3, \"id_\": 8, \"pair\": \"3,8\"}, {\"x\": -0.39655784547798295, \"y\": 0.05424546083279312, \"id\": 3, \"id_\": 11, \"pair\": \"3,11\"}, {\"x\": -0.33297154347029445, \"y\": -0.010342583734052892, \"id\": 4, \"id_\": 7, \"pair\": \"4,7\"}, {\"x\": -0.33297154347029445, \"y\": -0.010342583734052892, \"id\": 4, \"id_\": 8, \"pair\": \"4,8\"}, {\"x\": -0.33297154347029445, \"y\": -0.010342583734052892, \"id\": 4, \"id_\": 11, \"pair\": \"4,11\"}, {\"x\": -0.33297154347029445, \"y\": -0.010342583734052892, \"id\": 4, \"id_\": 3, \"pair\": \"3,4\"}, {\"x\": -0.2279030286428146, \"y\": 0.1995781105322282, \"id\": 5, \"id_\": 11, \"pair\": \"5,11\"}, {\"x\": -0.2279030286428146, \"y\": 0.1995781105322282, \"id\": 5, \"id_\": 13, \"pair\": \"5,13\"}, {\"x\": 0.6102661412778909, \"y\": -0.6943193102594819, \"id\": 6, \"id_\": 9, \"pair\": \"6,9\"}, {\"x\": 0.6102661412778909, \"y\": -0.6943193102594819, \"id\": 6, \"id_\": 2, \"pair\": \"2,6\"}, {\"x\": -0.2546283263416256, \"y\": -0.027822297312075275, \"id\": 7, \"id_\": 11, \"pair\": \"7,11\"}, {\"x\": -0.2546283263416256, \"y\": -0.027822297312075275, \"id\": 7, \"id_\": 4, \"pair\": \"4,7\"}, {\"x\": -0.39983678903730974, \"y\": -0.006691667999139738, \"id\": 8, \"id_\": 11, \"pair\": \"8,11\"}, {\"x\": -0.39983678903730974, \"y\": -0.006691667999139738, \"id\": 8, \"id_\": 3, \"pair\": \"3,8\"}, {\"x\": -0.39983678903730974, \"y\": -0.006691667999139738, \"id\": 8, \"id_\": 4, \"pair\": \"4,8\"}, {\"x\": 0.6737403939517407, \"y\": -0.5706481373451617, \"id\": 9, \"id_\": 12, \"pair\": \"9,12\"}, {\"x\": 0.6737403939517407, \"y\": -0.5706481373451617, \"id\": 9, \"id_\": 1, \"pair\": \"1,9\"}, {\"x\": 0.6737403939517407, \"y\": -0.5706481373451617, \"id\": 9, \"id_\": 2, \"pair\": \"2,9\"}, {\"x\": 0.6737403939517407, \"y\": -0.5706481373451617, \"id\": 9, \"id_\": 6, \"pair\": \"6,9\"}, {\"x\": -0.2852955944551651, \"y\": 0.10217480653755888, \"id\": 11, \"id_\": 13, \"pair\": \"11,13\"}, {\"x\": -0.2852955944551651, \"y\": 0.10217480653755888, \"id\": 11, \"id_\": 3, \"pair\": \"3,11\"}, {\"x\": -0.2852955944551651, \"y\": 0.10217480653755888, \"id\": 11, \"id_\": 4, \"pair\": \"4,11\"}, {\"x\": -0.2852955944551651, \"y\": 0.10217480653755888, \"id\": 11, \"id_\": 5, \"pair\": \"5,11\"}, {\"x\": -0.2852955944551651, \"y\": 0.10217480653755888, \"id\": 11, \"id_\": 7, \"pair\": \"7,11\"}, {\"x\": -0.2852955944551651, \"y\": 0.10217480653755888, \"id\": 11, \"id_\": 8, \"pair\": \"8,11\"}, {\"x\": 0.7688584133921582, \"y\": -0.39310412437569137, \"id\": 12, \"id_\": 14, \"pair\": \"12,14\"}, {\"x\": 0.7688584133921582, \"y\": -0.39310412437569137, \"id\": 12, \"id_\": 15, \"pair\": \"12,15\"}, {\"x\": 0.7688584133921582, \"y\": -0.39310412437569137, \"id\": 12, \"id_\": 17, \"pair\": \"12,17\"}, {\"x\": 0.7688584133921582, \"y\": -0.39310412437569137, \"id\": 12, \"id_\": 19, \"pair\": \"12,19\"}, {\"x\": 0.7688584133921582, \"y\": -0.39310412437569137, \"id\": 12, \"id_\": 23, \"pair\": \"12,23\"}, {\"x\": 0.7688584133921582, \"y\": -0.39310412437569137, \"id\": 12, \"id_\": 24, \"pair\": \"12,24\"}, {\"x\": 0.7688584133921582, \"y\": -0.39310412437569137, \"id\": 12, \"id_\": 1, \"pair\": \"1,12\"}, {\"x\": 0.7688584133921582, \"y\": -0.39310412437569137, \"id\": 12, \"id_\": 9, \"pair\": \"9,12\"}, {\"x\": -0.17837134086806244, \"y\": 0.3076111229098461, \"id\": 13, \"id_\": 20, \"pair\": \"13,20\"}, {\"x\": -0.17837134086806244, \"y\": 0.3076111229098461, \"id\": 13, \"id_\": 21, \"pair\": \"13,21\"}, {\"x\": -0.17837134086806244, \"y\": 0.3076111229098461, \"id\": 13, \"id_\": 22, \"pair\": \"13,22\"}, {\"x\": -0.17837134086806244, \"y\": 0.3076111229098461, \"id\": 13, \"id_\": 26, \"pair\": \"13,26\"}, {\"x\": -0.17837134086806244, \"y\": 0.3076111229098461, \"id\": 13, \"id_\": 29, \"pair\": \"13,29\"}, {\"x\": -0.17837134086806244, \"y\": 0.3076111229098461, \"id\": 13, \"id_\": 5, \"pair\": \"5,13\"}, {\"x\": -0.17837134086806244, \"y\": 0.3076111229098461, \"id\": 13, \"id_\": 11, \"pair\": \"11,13\"}, {\"x\": 0.8070715822951119, \"y\": -0.23986473785445753, \"id\": 14, \"id_\": 15, \"pair\": \"14,15\"}, {\"x\": 0.8070715822951119, \"y\": -0.23986473785445753, \"id\": 14, \"id_\": 17, \"pair\": \"14,17\"}, {\"x\": 0.8070715822951119, \"y\": -0.23986473785445753, \"id\": 14, \"id_\": 19, \"pair\": \"14,19\"}, {\"x\": 0.8070715822951119, \"y\": -0.23986473785445753, \"id\": 14, \"id_\": 12, \"pair\": \"12,14\"}, {\"x\": 0.8630062877642876, \"y\": -0.28303739238490133, \"id\": 15, \"id_\": 17, \"pair\": \"15,17\"}, {\"x\": 0.8630062877642876, \"y\": -0.28303739238490133, \"id\": 15, \"id_\": 19, \"pair\": \"15,19\"}, {\"x\": 0.8630062877642876, \"y\": -0.28303739238490133, \"id\": 15, \"id_\": 12, \"pair\": \"12,15\"}, {\"x\": 0.8630062877642876, \"y\": -0.28303739238490133, \"id\": 15, \"id_\": 14, \"pair\": \"14,15\"}, {\"x\": -0.9832534889795543, \"y\": 0.6679762269254349, \"id\": 16, \"id_\": 18, \"pair\": \"16,18\"}, {\"x\": -0.9832534889795543, \"y\": 0.6679762269254349, \"id\": 16, \"id_\": 25, \"pair\": \"16,25\"}, {\"x\": -0.9832534889795543, \"y\": 0.6679762269254349, \"id\": 16, \"id_\": 27, \"pair\": \"16,27\"}, {\"x\": -0.9832534889795543, \"y\": 0.6679762269254349, \"id\": 16, \"id_\": 28, \"pair\": \"16,28\"}, {\"x\": 0.75775111571968, \"y\": -0.2746330539821025, \"id\": 17, \"id_\": 19, \"pair\": \"17,19\"}, {\"x\": 0.75775111571968, \"y\": -0.2746330539821025, \"id\": 17, \"id_\": 12, \"pair\": \"12,17\"}, {\"x\": 0.75775111571968, \"y\": -0.2746330539821025, \"id\": 17, \"id_\": 14, \"pair\": \"14,17\"}, {\"x\": 0.75775111571968, \"y\": -0.2746330539821025, \"id\": 17, \"id_\": 15, \"pair\": \"15,17\"}, {\"x\": -1.0, \"y\": 0.6137076230706605, \"id\": 18, \"id_\": 25, \"pair\": \"18,25\"}, {\"x\": -1.0, \"y\": 0.6137076230706605, \"id\": 18, \"id_\": 27, \"pair\": \"18,27\"}, {\"x\": -1.0, \"y\": 0.6137076230706605, \"id\": 18, \"id_\": 28, \"pair\": \"18,28\"}, {\"x\": -1.0, \"y\": 0.6137076230706605, \"id\": 18, \"id_\": 16, \"pair\": \"16,18\"}, {\"x\": 0.8143495628174438, \"y\": -0.3068344655717729, \"id\": 19, \"id_\": 12, \"pair\": \"12,19\"}, {\"x\": 0.8143495628174438, \"y\": -0.3068344655717729, \"id\": 19, \"id_\": 14, \"pair\": \"14,19\"}, {\"x\": 0.8143495628174438, \"y\": -0.3068344655717729, \"id\": 19, \"id_\": 15, \"pair\": \"15,19\"}, {\"x\": 0.8143495628174438, \"y\": -0.3068344655717729, \"id\": 19, \"id_\": 17, \"pair\": \"17,19\"}, {\"x\": -0.04596416484634057, \"y\": 0.28358075586929465, \"id\": 20, \"id_\": 13, \"pair\": \"13,20\"}, {\"x\": -0.1881978289361273, \"y\": 0.45272563624379286, \"id\": 21, \"id_\": 22, \"pair\": \"21,22\"}, {\"x\": -0.1881978289361273, \"y\": 0.45272563624379286, \"id\": 21, \"id_\": 13, \"pair\": \"13,21\"}, {\"x\": -0.11951320552454806, \"y\": 0.4390828678977498, \"id\": 22, \"id_\": 29, \"pair\": \"22,29\"}, {\"x\": -0.11951320552454806, \"y\": 0.4390828678977498, \"id\": 22, \"id_\": 13, \"pair\": \"13,22\"}, {\"x\": -0.11951320552454806, \"y\": 0.4390828678977498, \"id\": 22, \"id_\": 21, \"pair\": \"21,22\"}, {\"x\": 0.8238319525695572, \"y\": -0.46245667765017423, \"id\": 23, \"id_\": 24, \"pair\": \"23,24\"}, {\"x\": 0.8238319525695572, \"y\": -0.46245667765017423, \"id\": 23, \"id_\": 1, \"pair\": \"1,23\"}, {\"x\": 0.8238319525695572, \"y\": -0.46245667765017423, \"id\": 23, \"id_\": 12, \"pair\": \"12,23\"}, {\"x\": 0.8601078389604953, \"y\": -0.5070785572026709, \"id\": 24, \"id_\": 1, \"pair\": \"1,24\"}, {\"x\": 0.8601078389604953, \"y\": -0.5070785572026709, \"id\": 24, \"id_\": 12, \"pair\": \"12,24\"}, {\"x\": 0.8601078389604953, \"y\": -0.5070785572026709, \"id\": 24, \"id_\": 23, \"pair\": \"23,24\"}, {\"x\": -0.9417977271683562, \"y\": 0.6186587372058185, \"id\": 25, \"id_\": 27, \"pair\": \"25,27\"}, {\"x\": -0.9417977271683562, \"y\": 0.6186587372058185, \"id\": 25, \"id_\": 28, \"pair\": \"25,28\"}, {\"x\": -0.9417977271683562, \"y\": 0.6186587372058185, \"id\": 25, \"id_\": 16, \"pair\": \"16,25\"}, {\"x\": -0.9417977271683562, \"y\": 0.6186587372058185, \"id\": 25, \"id_\": 18, \"pair\": \"18,25\"}, {\"x\": -0.28628722070345086, \"y\": 0.3934651802349689, \"id\": 26, \"id_\": 13, \"pair\": \"13,26\"}, {\"x\": -0.8999999452475219, \"y\": 0.6638336698786743, \"id\": 27, \"id_\": 28, \"pair\": \"27,28\"}, {\"x\": -0.8999999452475219, \"y\": 0.6638336698786743, \"id\": 27, \"id_\": 16, \"pair\": \"16,27\"}, {\"x\": -0.8999999452475219, \"y\": 0.6638336698786743, \"id\": 27, \"id_\": 18, \"pair\": \"18,27\"}, {\"x\": -0.8999999452475219, \"y\": 0.6638336698786743, \"id\": 27, \"id_\": 25, \"pair\": \"25,27\"}, {\"x\": -0.9788751864090459, \"y\": 0.7175729394551641, \"id\": 28, \"id_\": 16, \"pair\": \"16,28\"}, {\"x\": -0.9788751864090459, \"y\": 0.7175729394551641, \"id\": 28, \"id_\": 18, \"pair\": \"18,28\"}, {\"x\": -0.9788751864090459, \"y\": 0.7175729394551641, \"id\": 28, \"id_\": 25, \"pair\": \"25,28\"}, {\"x\": -0.9788751864090459, \"y\": 0.7175729394551641, \"id\": 28, \"id_\": 27, \"pair\": \"27,28\"}, {\"x\": -0.06223848792214391, \"y\": 0.397795987258065, \"id\": 29, \"id_\": 13, \"pair\": \"13,29\"}, {\"x\": -0.06223848792214391, \"y\": 0.397795987258065, \"id\": 29, \"id_\": 22, \"pair\": \"22,29\"}], \"data-a6f8d82e1bb312e505af80056814ae58\": [{\"author_id\": 11, \"authors\": \"RS Targino\", \"paper_id\": 1, \"paper_name\": \"Sequential Monte Carlo samplers for capital allocation under copula-dependent risk models\", \"x_a\": -0.2852955944551651, \"y_a\": 0.10217480653755888, \"id_a\": 11, \"x_p\": 0.01910121468663946, \"y_p\": -0.11930145091015308, \"id_p\": 1}, {\"author_id\": 11, \"authors\": \"RS Targino\", \"paper_id\": 2, \"paper_name\": \"Understanding operational risk capital approximations: First and second orders\", \"x_a\": -0.2852955944551651, \"y_a\": 0.10217480653755888, \"id_a\": 11, \"x_p\": 0.02668463760363021, \"y_p\": -0.08534367769406118, \"id_p\": 2}, {\"author_id\": 11, \"authors\": \"RS Targino\", \"paper_id\": 3, \"paper_name\": \"Optimal exercise strategies for operational risk insurance via multiple stopping times\", \"x_a\": -0.2852955944551651, \"y_a\": 0.10217480653755888, \"id_a\": 11, \"x_p\": 0.05251065094082692, \"y_p\": -0.10605292921715315, \"id_p\": 3}, {\"author_id\": 11, \"authors\": \"RS Targino\", \"paper_id\": 5, \"paper_name\": \"Full bayesian analysis of claims reserving uncertainty\", \"x_a\": -0.2852955944551651, \"y_a\": 0.10217480653755888, \"id_a\": 11, \"x_p\": -0.006095161793137405, \"y_p\": -0.09091554235413705, \"id_p\": 5}, {\"author_id\": 11, \"authors\": \"RS Targino\", \"paper_id\": 6, \"paper_name\": \"Bayesian Approach for Parameter Estimation of Continuous-Time Stochastic Volatility Models using Fourier Transform Methods\", \"x_a\": -0.2852955944551651, \"y_a\": 0.10217480653755888, \"id_a\": 11, \"x_p\": -0.03731888850523791, \"y_p\": -0.15903257080211647, \"id_p\": 6}, {\"author_id\": 11, \"authors\": \"RS Targino\", \"paper_id\": 8, \"paper_name\": \"SMC samplers for capital allocation under copula-dependent risk models\", \"x_a\": -0.2852955944551651, \"y_a\": 0.10217480653755888, \"id_a\": 11, \"x_p\": 0.051157664285587136, \"y_p\": -0.15693341963827842, \"id_p\": 8}, {\"author_id\": 11, \"authors\": \"RS Targino\", \"paper_id\": 10, \"paper_name\": \"SMC samplers, rare events and the allocation of risks in finance\", \"x_a\": -0.2852955944551651, \"y_a\": 0.10217480653755888, \"id_a\": 11, \"x_p\": 0.06637339103801859, \"y_p\": -0.1324413959426885, \"id_p\": 10}, {\"author_id\": 11, \"authors\": \"RS Targino\", \"paper_id\": 11, \"paper_name\": \"Hedging in Incomplete Markets Using Fourier Series Method\", \"x_a\": -0.2852955944551651, \"y_a\": 0.10217480653755888, \"id_a\": 11, \"x_p\": -0.02332955346379471, \"y_p\": -0.17202785189034336, \"id_p\": 11}, {\"author_id\": 11, \"authors\": \"RS Targino\", \"paper_id\": 12, \"paper_name\": \"Bayesian Selection for Heston Models with Volatilities Determined by Fourier Series Method\", \"x_a\": -0.2852955944551651, \"y_a\": 0.10217480653755888, \"id_a\": 11, \"x_p\": -0.011079251050432093, \"y_p\": -0.18684279695462613, \"id_p\": 12}, {\"author_id\": 4, \"authors\": \"GW Peters\", \"paper_id\": 1, \"paper_name\": \"Sequential Monte Carlo samplers for capital allocation under copula-dependent risk models\", \"x_a\": -0.33297154347029445, \"y_a\": -0.010342583734052892, \"id_a\": 4, \"x_p\": 0.01910121468663946, \"y_p\": -0.11930145091015308, \"id_p\": 1}, {\"author_id\": 4, \"authors\": \"GW Peters\", \"paper_id\": 2, \"paper_name\": \"Understanding operational risk capital approximations: First and second orders\", \"x_a\": -0.33297154347029445, \"y_a\": -0.010342583734052892, \"id_a\": 4, \"x_p\": 0.02668463760363021, \"y_p\": -0.08534367769406118, \"id_p\": 2}, {\"author_id\": 4, \"authors\": \"GW Peters\", \"paper_id\": 3, \"paper_name\": \"Optimal exercise strategies for operational risk insurance via multiple stopping times\", \"x_a\": -0.33297154347029445, \"y_a\": -0.010342583734052892, \"id_a\": 4, \"x_p\": 0.05251065094082692, \"y_p\": -0.10605292921715315, \"id_p\": 3}, {\"author_id\": 4, \"authors\": \"GW Peters\", \"paper_id\": 5, \"paper_name\": \"Full bayesian analysis of claims reserving uncertainty\", \"x_a\": -0.33297154347029445, \"y_a\": -0.010342583734052892, \"id_a\": 4, \"x_p\": -0.006095161793137405, \"y_p\": -0.09091554235413705, \"id_p\": 5}, {\"author_id\": 4, \"authors\": \"GW Peters\", \"paper_id\": 10, \"paper_name\": \"SMC samplers, rare events and the allocation of risks in finance\", \"x_a\": -0.33297154347029445, \"y_a\": -0.010342583734052892, \"id_a\": 4, \"x_p\": 0.06637339103801859, \"y_p\": -0.1324413959426885, \"id_p\": 10}, {\"author_id\": 8, \"authors\": \"PV Shevchenko\", \"paper_id\": 1, \"paper_name\": \"Sequential Monte Carlo samplers for capital allocation under copula-dependent risk models\", \"x_a\": -0.39983678903730974, \"y_a\": -0.006691667999139738, \"id_a\": 8, \"x_p\": 0.01910121468663946, \"y_p\": -0.11930145091015308, \"id_p\": 1}, {\"author_id\": 8, \"authors\": \"PV Shevchenko\", \"paper_id\": 2, \"paper_name\": \"Understanding operational risk capital approximations: First and second orders\", \"x_a\": -0.39983678903730974, \"y_a\": -0.006691667999139738, \"id_a\": 8, \"x_p\": 0.02668463760363021, \"y_p\": -0.08534367769406118, \"id_p\": 2}, {\"author_id\": 8, \"authors\": \"PV Shevchenko\", \"paper_id\": 3, \"paper_name\": \"Optimal exercise strategies for operational risk insurance via multiple stopping times\", \"x_a\": -0.39983678903730974, \"y_a\": -0.006691667999139738, \"id_a\": 8, \"x_p\": 0.05251065094082692, \"y_p\": -0.10605292921715315, \"id_p\": 3}, {\"author_id\": 8, \"authors\": \"PV Shevchenko\", \"paper_id\": 10, \"paper_name\": \"SMC samplers, rare events and the allocation of risks in finance\", \"x_a\": -0.39983678903730974, \"y_a\": -0.006691667999139738, \"id_a\": 8, \"x_p\": 0.06637339103801859, \"y_p\": -0.1324413959426885, \"id_p\": 10}, {\"author_id\": 3, \"authors\": \"G Sofronov\", \"paper_id\": 3, \"paper_name\": \"Optimal exercise strategies for operational risk insurance via multiple stopping times\", \"x_a\": -0.39655784547798295, \"y_a\": 0.05424546083279312, \"id_a\": 3, \"x_p\": 0.05251065094082692, \"y_p\": -0.10605292921715315, \"id_p\": 3}, {\"author_id\": 2, \"authors\": \"G Peters\", \"paper_id\": 4, \"paper_name\": \"Bayesian modelling, Monte Carlo sampling and capital allocation of insurance risks\", \"x_a\": 0.6799045561507326, \"y_a\": -0.7150418106656136, \"id_a\": 2, \"x_p\": -0.10284677127821848, \"y_p\": 0.7071574178317404, \"id_p\": 4}, {\"author_id\": 9, \"authors\": \"R Targino\", \"paper_id\": 4, \"paper_name\": \"Bayesian modelling, Monte Carlo sampling and capital allocation of insurance risks\", \"x_a\": 0.6737403939517407, \"y_a\": -0.5706481373451617, \"id_a\": 9, \"x_p\": -0.10284677127821848, \"y_p\": 0.7071574178317404, \"id_p\": 4}, {\"author_id\": 9, \"authors\": \"R Targino\", \"paper_id\": 7, \"paper_name\": \"The Impact of the Freedom of the Press on Risk\", \"x_a\": 0.6737403939517407, \"y_a\": -0.5706481373451617, \"id_a\": 9, \"x_p\": -0.011248635066260237, \"y_p\": 0.6619897357401289, \"id_p\": 7}, {\"author_id\": 6, \"authors\": \"M W\\u00fcthrich\", \"paper_id\": 4, \"paper_name\": \"Bayesian modelling, Monte Carlo sampling and capital allocation of insurance risks\", \"x_a\": 0.6102661412778909, \"y_a\": -0.6943193102594819, \"id_a\": 6, \"x_p\": -0.10284677127821848, \"y_p\": 0.7071574178317404, \"id_p\": 4}, {\"author_id\": 7, \"authors\": \"MV W\\u00fcthrich\", \"paper_id\": 5, \"paper_name\": \"Full bayesian analysis of claims reserving uncertainty\", \"x_a\": -0.2546283263416256, \"y_a\": -0.027822297312075275, \"id_a\": 7, \"x_p\": -0.006095161793137405, \"y_p\": -0.09091554235413705, \"id_p\": 5}, {\"author_id\": 5, \"authors\": \"M Merkle\", \"paper_id\": 6, \"paper_name\": \"Bayesian Approach for Parameter Estimation of Continuous-Time Stochastic Volatility Models using Fourier Transform Methods\", \"x_a\": -0.2279030286428146, \"y_a\": 0.1995781105322282, \"id_a\": 5, \"x_p\": -0.03731888850523791, \"y_p\": -0.15903257080211647, \"id_p\": 6}, {\"author_id\": 5, \"authors\": \"M Merkle\", \"paper_id\": 11, \"paper_name\": \"Hedging in Incomplete Markets Using Fourier Series Method\", \"x_a\": -0.2279030286428146, \"y_a\": 0.1995781105322282, \"id_a\": 5, \"x_p\": -0.02332955346379471, \"y_p\": -0.17202785189034336, \"id_p\": 11}, {\"author_id\": 5, \"authors\": \"M Merkle\", \"paper_id\": 12, \"paper_name\": \"Bayesian Selection for Heston Models with Volatilities Determined by Fourier Series Method\", \"x_a\": -0.2279030286428146, \"y_a\": 0.1995781105322282, \"id_a\": 5, \"x_p\": -0.011079251050432093, \"y_p\": -0.18684279695462613, \"id_p\": 12}, {\"author_id\": 13, \"authors\": \"YF Saporito\", \"paper_id\": 6, \"paper_name\": \"Bayesian Approach for Parameter Estimation of Continuous-Time Stochastic Volatility Models using Fourier Transform Methods\", \"x_a\": -0.17837134086806244, \"y_a\": 0.3076111229098461, \"id_a\": 13, \"x_p\": -0.03731888850523791, \"y_p\": -0.15903257080211647, \"id_p\": 6}, {\"author_id\": 13, \"authors\": \"YF Saporito\", \"paper_id\": 11, \"paper_name\": \"Hedging in Incomplete Markets Using Fourier Series Method\", \"x_a\": -0.17837134086806244, \"y_a\": 0.3076111229098461, \"id_a\": 13, \"x_p\": -0.02332955346379471, \"y_p\": -0.17202785189034336, \"id_p\": 11}, {\"author_id\": 13, \"authors\": \"YF Saporito\", \"paper_id\": 12, \"paper_name\": \"Bayesian Selection for Heston Models with Volatilities Determined by Fourier Series Method\", \"x_a\": -0.17837134086806244, \"y_a\": 0.3076111229098461, \"id_a\": 13, \"x_p\": -0.011079251050432093, \"y_p\": -0.18684279695462613, \"id_p\": 12}, {\"author_id\": 1, \"authors\": \"D Duarte\", \"paper_id\": 7, \"paper_name\": \"The Impact of the Freedom of the Press on Risk\", \"x_a\": 0.7575736810125401, \"y_a\": -0.5085387795034403, \"id_a\": 1, \"x_p\": -0.011248635066260237, \"y_p\": 0.6619897357401289, \"id_p\": 7}, {\"author_id\": 12, \"authors\": \"Y Saporito\", \"paper_id\": 7, \"paper_name\": \"The Impact of the Freedom of the Press on Risk\", \"x_a\": 0.7688584133921582, \"y_a\": -0.39310412437569137, \"id_a\": 12, \"x_p\": -0.011248635066260237, \"y_p\": 0.6619897357401289, \"id_p\": 7}, {\"author_id\": 10, \"authors\": \"R dos Santos Targino\", \"paper_id\": 9, \"paper_name\": \"Teoremas de Nao-Arbitragem em Mercados Regidos pelo Movimento Browniano Fracion\\u00e1rio\", \"x_a\": -0.834769801881295, \"y_a\": -0.9115955290113129, \"id_a\": 10, \"x_p\": 0.8816161348616417, \"y_p\": 0.19027225011464996, \"id_p\": 9}, {\"author_id\": 26, \"authors\": \"S Jazaerli\", \"paper_id\": 13, \"paper_name\": \"Functional It\\u00f4 calculus, path-dependence and the computation of Greeks\", \"x_a\": -0.28628722070345086, \"y_a\": 0.3934651802349689, \"id_a\": 26, \"x_p\": -0.0924436090378846, \"y_p\": -0.17856937293498276, \"id_p\": 13}, {\"author_id\": 13, \"authors\": \"YF Saporito\", \"paper_id\": 13, \"paper_name\": \"Functional It\\u00f4 calculus, path-dependence and the computation of Greeks\", \"x_a\": -0.17837134086806244, \"y_a\": 0.3076111229098461, \"id_a\": 13, \"x_p\": -0.0924436090378846, \"y_p\": -0.17856937293498276, \"id_p\": 13}, {\"author_id\": 13, \"authors\": \"YF Saporito\", \"paper_id\": 14, \"paper_name\": \"Multiscale stochastic volatility model for derivatives on futures\", \"x_a\": -0.17837134086806244, \"y_a\": 0.3076111229098461, \"id_a\": 13, \"x_p\": -0.05149665788665899, \"y_p\": -0.22322580540983633, \"id_p\": 14}, {\"author_id\": 13, \"authors\": \"YF Saporito\", \"paper_id\": 15, \"paper_name\": \"Stochastic Control with Delayed Information and Related Nonlinear Master Equation\", \"x_a\": -0.17837134086806244, \"y_a\": 0.3076111229098461, \"id_a\": 13, \"x_p\": -0.09958420189746536, \"y_p\": -0.22133830938891422, \"id_p\": 15}, {\"author_id\": 13, \"authors\": \"YF Saporito\", \"paper_id\": 16, \"paper_name\": \"Heston stochastic vol-of-vol model for joint calibration of VIX and S&P 500 options\", \"x_a\": -0.17837134086806244, \"y_a\": 0.3076111229098461, \"id_a\": 13, \"x_p\": -0.11222152519726174, \"y_p\": -0.19991549701052824, \"id_p\": 16}, {\"author_id\": 13, \"authors\": \"YF Saporito\", \"paper_id\": 17, \"paper_name\": \"The functional Meyer-Tanaka formula\", \"x_a\": -0.17837134086806244, \"y_a\": 0.3076111229098461, \"id_a\": 13, \"x_p\": -0.05165777772247965, \"y_p\": -0.2601195664396992, \"id_p\": 17}, {\"author_id\": 13, \"authors\": \"YF Saporito\", \"paper_id\": 18, \"paper_name\": \"The calibration of stochastic local-volatility models: An inverse problem perspective\", \"x_a\": -0.17837134086806244, \"y_a\": 0.3076111229098461, \"id_a\": 13, \"x_p\": -0.07324720058518978, \"y_p\": -0.2008163089519137, \"id_p\": 18}, {\"author_id\": 13, \"authors\": \"YF Saporito\", \"paper_id\": 20, \"paper_name\": \"Stochastic Control and Differential Games with Path-Dependent Influence of Controls on Dynamics and Running Cost\", \"x_a\": -0.17837134086806244, \"y_a\": 0.3076111229098461, \"id_a\": 13, \"x_p\": -0.029097324060691182, \"y_p\": -0.24182214394266777, \"id_p\": 20}, {\"author_id\": 13, \"authors\": \"YF Saporito\", \"paper_id\": 20, \"paper_name\": \"Stochastic Control and Differential Games with Path-Dependent Influence of Controls on Dynamics and Running Cost\", \"x_a\": -0.17837134086806244, \"y_a\": 0.3076111229098461, \"id_a\": 13, \"x_p\": -0.029097324060691182, \"y_p\": -0.24182214394266777, \"id_p\": 20}, {\"author_id\": 13, \"authors\": \"YF Saporito\", \"paper_id\": 21, \"paper_name\": \"Topics on Functional It\\u00f4 Calculus and Multiscale Stochastic Volatility Modeling\", \"x_a\": -0.17837134086806244, \"y_a\": 0.3076111229098461, \"id_a\": 13, \"x_p\": -0.07443151262954653, \"y_p\": -0.24895554375913212, \"id_p\": 21}, {\"author_id\": 13, \"authors\": \"YF Saporito\", \"paper_id\": 6, \"paper_name\": \"Bayesian Approach for Parameter Estimation of Continuous-Time Stochastic Volatility Models using Fourier Transform Methods\", \"x_a\": -0.17837134086806244, \"y_a\": 0.3076111229098461, \"id_a\": 13, \"x_p\": -0.03731888850523791, \"y_p\": -0.15903257080211647, \"id_p\": 6}, {\"author_id\": 13, \"authors\": \"YF Saporito\", \"paper_id\": 24, \"paper_name\": \"First-Order Asymptotics of Path-Dependent Derivatives in Multiscale Stochastic Volatility Environment\", \"x_a\": -0.17837134086806244, \"y_a\": 0.3076111229098461, \"id_a\": 13, \"x_p\": -0.0997963682521396, \"y_p\": -0.24665565467385223, \"id_p\": 24}, {\"author_id\": 13, \"authors\": \"YF Saporito\", \"paper_id\": 12, \"paper_name\": \"Bayesian Selection for Heston Models with Volatilities Determined by Fourier Series Method\", \"x_a\": -0.17837134086806244, \"y_a\": 0.3076111229098461, \"id_a\": 13, \"x_p\": -0.011079251050432093, \"y_p\": -0.18684279695462613, \"id_p\": 12}, {\"author_id\": 13, \"authors\": \"YF Saporito\", \"paper_id\": 11, \"paper_name\": \"Hedging in Incomplete Markets Using Fourier Series Method\", \"x_a\": -0.17837134086806244, \"y_a\": 0.3076111229098461, \"id_a\": 13, \"x_p\": -0.02332955346379471, \"y_p\": -0.17202785189034336, \"id_p\": 11}, {\"author_id\": 21, \"authors\": \"JP Fouque\", \"paper_id\": 14, \"paper_name\": \"Multiscale stochastic volatility model for derivatives on futures\", \"x_a\": -0.1881978289361273, \"y_a\": 0.45272563624379286, \"id_a\": 21, \"x_p\": -0.05149665788665899, \"y_p\": -0.22322580540983633, \"id_p\": 14}, {\"author_id\": 21, \"authors\": \"JP Fouque\", \"paper_id\": 16, \"paper_name\": \"Heston stochastic vol-of-vol model for joint calibration of VIX and S&P 500 options\", \"x_a\": -0.1881978289361273, \"y_a\": 0.45272563624379286, \"id_a\": 21, \"x_p\": -0.11222152519726174, \"y_p\": -0.19991549701052824, \"id_p\": 16}, {\"author_id\": 22, \"authors\": \"JP Zubelli\", \"paper_id\": 14, \"paper_name\": \"Multiscale stochastic volatility model for derivatives on futures\", \"x_a\": -0.11951320552454806, \"y_a\": 0.4390828678977498, \"id_a\": 22, \"x_p\": -0.05149665788665899, \"y_p\": -0.22322580540983633, \"id_p\": 14}, {\"author_id\": 22, \"authors\": \"JP Zubelli\", \"paper_id\": 18, \"paper_name\": \"The calibration of stochastic local-volatility models: An inverse problem perspective\", \"x_a\": -0.11951320552454806, \"y_a\": 0.4390828678977498, \"id_a\": 22, \"x_p\": -0.07324720058518978, \"y_p\": -0.2008163089519137, \"id_p\": 18}, {\"author_id\": 20, \"authors\": \"J Zhang\", \"paper_id\": 15, \"paper_name\": \"Stochastic Control with Delayed Information and Related Nonlinear Master Equation\", \"x_a\": -0.04596416484634057, \"y_a\": 0.28358075586929465, \"id_a\": 20, \"x_p\": -0.09958420189746536, \"y_p\": -0.22133830938891422, \"id_p\": 15}, {\"author_id\": 29, \"authors\": \"X Yang\", \"paper_id\": 18, \"paper_name\": \"The calibration of stochastic local-volatility models: An inverse problem perspective\", \"x_a\": -0.06223848792214391, \"y_a\": 0.397795987258065, \"id_a\": 29, \"x_p\": -0.07324720058518978, \"y_p\": -0.2008163089519137, \"id_p\": 18}, {\"author_id\": 14, \"authors\": \"A Al-Aradi\", \"paper_id\": 19, \"paper_name\": \"Solving Nonlinear and High-Dimensional Partial Differential Equations via Deep Learning\", \"x_a\": 0.8070715822951119, \"y_a\": -0.23986473785445753, \"id_a\": 14, \"x_p\": 0.048939126269281236, \"y_p\": 0.6166362848731373, \"id_p\": 19}, {\"author_id\": 15, \"authors\": \"A Correia\", \"paper_id\": 19, \"paper_name\": \"Solving Nonlinear and High-Dimensional Partial Differential Equations via Deep Learning\", \"x_a\": 0.8630062877642876, \"y_a\": -0.28303739238490133, \"id_a\": 15, \"x_p\": 0.048939126269281236, \"y_p\": 0.6166362848731373, \"id_p\": 19}, {\"author_id\": 17, \"authors\": \"D Naiff\", \"paper_id\": 19, \"paper_name\": \"Solving Nonlinear and High-Dimensional Partial Differential Equations via Deep Learning\", \"x_a\": 0.75775111571968, \"y_a\": -0.2746330539821025, \"id_a\": 17, \"x_p\": 0.048939126269281236, \"y_p\": 0.6166362848731373, \"id_p\": 19}, {\"author_id\": 19, \"authors\": \"G Jardim\", \"paper_id\": 19, \"paper_name\": \"Solving Nonlinear and High-Dimensional Partial Differential Equations via Deep Learning\", \"x_a\": 0.8143495628174438, \"y_a\": -0.3068344655717729, \"id_a\": 19, \"x_p\": 0.048939126269281236, \"y_p\": 0.6166362848731373, \"id_p\": 19}, {\"author_id\": 12, \"authors\": \"Y Saporito\", \"paper_id\": 19, \"paper_name\": \"Solving Nonlinear and High-Dimensional Partial Differential Equations via Deep Learning\", \"x_a\": 0.7688584133921582, \"y_a\": -0.39310412437569137, \"id_a\": 12, \"x_p\": 0.048939126269281236, \"y_p\": 0.6166362848731373, \"id_p\": 19}, {\"author_id\": 12, \"authors\": \"Y Saporito\", \"paper_id\": 22, \"paper_name\": \"Modelos de Volatilidade para o Mercado Financeiro\", \"x_a\": 0.7688584133921582, \"y_a\": -0.39310412437569137, \"id_a\": 12, \"x_p\": 0.08430837146365036, \"y_p\": 0.6845163073714994, \"id_p\": 22}, {\"author_id\": 12, \"authors\": \"Y Saporito\", \"paper_id\": 23, \"paper_name\": \"Vanishing Contagion Spreads\", \"x_a\": 0.7688584133921582, \"y_a\": -0.39310412437569137, \"id_a\": 12, \"x_p\": 0.03315375717683136, \"y_p\": 0.7047161522618571, \"id_p\": 23}, {\"author_id\": 12, \"authors\": \"Y Saporito\", \"paper_id\": 7, \"paper_name\": \"The Impact of the Freedom of the Press on Risk\", \"x_a\": 0.7688584133921582, \"y_a\": -0.39310412437569137, \"id_a\": 12, \"x_p\": -0.011248635066260237, \"y_p\": 0.6619897357401289, \"id_p\": 7}, {\"author_id\": 12, \"authors\": \"Y Saporito\", \"paper_id\": 25, \"paper_name\": \"Endogenous Asymmetric Money Illusion\", \"x_a\": 0.7688584133921582, \"y_a\": -0.39310412437569137, \"id_a\": 12, \"x_p\": 0.048786320976629376, \"y_p\": 0.6650216897220697, \"id_p\": 25}, {\"author_id\": 1, \"authors\": \"D Duarte\", \"paper_id\": 23, \"paper_name\": \"Vanishing Contagion Spreads\", \"x_a\": 0.7575736810125401, \"y_a\": -0.5085387795034403, \"id_a\": 1, \"x_p\": 0.03315375717683136, \"y_p\": 0.7047161522618571, \"id_p\": 23}, {\"author_id\": 1, \"authors\": \"D Duarte\", \"paper_id\": 7, \"paper_name\": \"The Impact of the Freedom of the Press on Risk\", \"x_a\": 0.7575736810125401, \"y_a\": -0.5085387795034403, \"id_a\": 1, \"x_p\": -0.011248635066260237, \"y_p\": 0.6619897357401289, \"id_p\": 7}, {\"author_id\": 1, \"authors\": \"D Duarte\", \"paper_id\": 25, \"paper_name\": \"Endogenous Asymmetric Money Illusion\", \"x_a\": 0.7575736810125401, \"y_a\": -0.5085387795034403, \"id_a\": 1, \"x_p\": 0.048786320976629376, \"y_p\": 0.6650216897220697, \"id_p\": 25}, {\"author_id\": 24, \"authors\": \"R Prieto\", \"paper_id\": 23, \"paper_name\": \"Vanishing Contagion Spreads\", \"x_a\": 0.8601078389604953, \"y_a\": -0.5070785572026709, \"id_a\": 24, \"x_p\": 0.03315375717683136, \"y_p\": 0.7047161522618571, \"id_p\": 23}, {\"author_id\": 23, \"authors\": \"M Rindisbacher\", \"paper_id\": 23, \"paper_name\": \"Vanishing Contagion Spreads\", \"x_a\": 0.8238319525695572, \"y_a\": -0.46245667765017423, \"id_a\": 23, \"x_p\": 0.03315375717683136, \"y_p\": 0.7047161522618571, \"id_p\": 23}, {\"author_id\": 5, \"authors\": \"M Merkle\", \"paper_id\": 6, \"paper_name\": \"Bayesian Approach for Parameter Estimation of Continuous-Time Stochastic Volatility Models using Fourier Transform Methods\", \"x_a\": -0.2279030286428146, \"y_a\": 0.1995781105322282, \"id_a\": 5, \"x_p\": -0.03731888850523791, \"y_p\": -0.15903257080211647, \"id_p\": 6}, {\"author_id\": 5, \"authors\": \"M Merkle\", \"paper_id\": 12, \"paper_name\": \"Bayesian Selection for Heston Models with Volatilities Determined by Fourier Series Method\", \"x_a\": -0.2279030286428146, \"y_a\": 0.1995781105322282, \"id_a\": 5, \"x_p\": -0.011079251050432093, \"y_p\": -0.18684279695462613, \"id_p\": 12}, {\"author_id\": 5, \"authors\": \"M Merkle\", \"paper_id\": 11, \"paper_name\": \"Hedging in Incomplete Markets Using Fourier Series Method\", \"x_a\": -0.2279030286428146, \"y_a\": 0.1995781105322282, \"id_a\": 5, \"x_p\": -0.02332955346379471, \"y_p\": -0.17202785189034336, \"id_p\": 11}, {\"author_id\": 11, \"authors\": \"RS Targino\", \"paper_id\": 6, \"paper_name\": \"Bayesian Approach for Parameter Estimation of Continuous-Time Stochastic Volatility Models using Fourier Transform Methods\", \"x_a\": -0.2852955944551651, \"y_a\": 0.10217480653755888, \"id_a\": 11, \"x_p\": -0.03731888850523791, \"y_p\": -0.15903257080211647, \"id_p\": 6}, {\"author_id\": 11, \"authors\": \"RS Targino\", \"paper_id\": 12, \"paper_name\": \"Bayesian Selection for Heston Models with Volatilities Determined by Fourier Series Method\", \"x_a\": -0.2852955944551651, \"y_a\": 0.10217480653755888, \"id_a\": 11, \"x_p\": -0.011079251050432093, \"y_p\": -0.18684279695462613, \"id_p\": 12}, {\"author_id\": 11, \"authors\": \"RS Targino\", \"paper_id\": 11, \"paper_name\": \"Hedging in Incomplete Markets Using Fourier Series Method\", \"x_a\": -0.2852955944551651, \"y_a\": 0.10217480653755888, \"id_a\": 11, \"x_p\": -0.02332955346379471, \"y_p\": -0.17202785189034336, \"id_p\": 11}, {\"author_id\": 9, \"authors\": \"R Targino\", \"paper_id\": 7, \"paper_name\": \"The Impact of the Freedom of the Press on Risk\", \"x_a\": 0.6737403939517407, \"y_a\": -0.5706481373451617, \"id_a\": 9, \"x_p\": -0.011248635066260237, \"y_p\": 0.6619897357401289, \"id_p\": 7}, {\"author_id\": 25, \"authors\": \"RE Glezer\", \"paper_id\": 26, \"paper_name\": \"Nomea\\u00e7\\u00e3o de coaliz\\u00e3o\\ufeff\", \"x_a\": -0.9417977271683562, \"y_a\": 0.6186587372058185, \"id_a\": 25, \"x_p\": -0.43673683087633786, \"y_p\": -1.0, \"id_p\": 26}, {\"author_id\": 28, \"authors\": \"VH Thorstensen\", \"paper_id\": 26, \"paper_name\": \"Nomea\\u00e7\\u00e3o de coaliz\\u00e3o\\ufeff\", \"x_a\": -0.9788751864090459, \"y_a\": 0.7175729394551641, \"id_a\": 28, \"x_p\": -0.43673683087633786, \"y_p\": -1.0, \"id_p\": 26}, {\"author_id\": 27, \"authors\": \"TRSM Nogueira\", \"paper_id\": 26, \"paper_name\": \"Nomea\\u00e7\\u00e3o de coaliz\\u00e3o\\ufeff\", \"x_a\": -0.8999999452475219, \"y_a\": 0.6638336698786743, \"id_a\": 27, \"x_p\": -0.43673683087633786, \"y_p\": -1.0, \"id_p\": 26}, {\"author_id\": 16, \"authors\": \"D Campello\", \"paper_id\": 26, \"paper_name\": \"Nomea\\u00e7\\u00e3o de coaliz\\u00e3o\\ufeff\", \"x_a\": -0.9832534889795543, \"y_a\": 0.6679762269254349, \"id_a\": 16, \"x_p\": -0.43673683087633786, \"y_p\": -1.0, \"id_p\": 26}, {\"author_id\": 18, \"authors\": \"EM Almeida\", \"paper_id\": 26, \"paper_name\": \"Nomea\\u00e7\\u00e3o de coaliz\\u00e3o\\ufeff\", \"x_a\": -1.0, \"y_a\": 0.6137076230706605, \"id_a\": 18, \"x_p\": -0.43673683087633786, \"y_p\": -1.0, \"id_p\": 26}], \"data-2c6582d83fbc034e5116d83b9659cb0c\": [{\"x\": 0.01910121468663946, \"y\": -0.11930145091015308, \"id\": 1, \"id_\": 2, \"pair\": \"1,2\"}, {\"x\": 0.01910121468663946, \"y\": -0.11930145091015308, \"id\": 1, \"id_\": 3, \"pair\": \"1,3\"}, {\"x\": 0.01910121468663946, \"y\": -0.11930145091015308, \"id\": 1, \"id_\": 5, \"pair\": \"1,5\"}, {\"x\": 0.01910121468663946, \"y\": -0.11930145091015308, \"id\": 1, \"id_\": 6, \"pair\": \"1,6\"}, {\"x\": 0.01910121468663946, \"y\": -0.11930145091015308, \"id\": 1, \"id_\": 8, \"pair\": \"1,8\"}, {\"x\": 0.01910121468663946, \"y\": -0.11930145091015308, \"id\": 1, \"id_\": 10, \"pair\": \"1,10\"}, {\"x\": 0.01910121468663946, \"y\": -0.11930145091015308, \"id\": 1, \"id_\": 11, \"pair\": \"1,11\"}, {\"x\": 0.01910121468663946, \"y\": -0.11930145091015308, \"id\": 1, \"id_\": 12, \"pair\": \"1,12\"}, {\"x\": 0.02668463760363021, \"y\": -0.08534367769406118, \"id\": 2, \"id_\": 3, \"pair\": \"2,3\"}, {\"x\": 0.02668463760363021, \"y\": -0.08534367769406118, \"id\": 2, \"id_\": 5, \"pair\": \"2,5\"}, {\"x\": 0.02668463760363021, \"y\": -0.08534367769406118, \"id\": 2, \"id_\": 6, \"pair\": \"2,6\"}, {\"x\": 0.02668463760363021, \"y\": -0.08534367769406118, \"id\": 2, \"id_\": 8, \"pair\": \"2,8\"}, {\"x\": 0.02668463760363021, \"y\": -0.08534367769406118, \"id\": 2, \"id_\": 10, \"pair\": \"2,10\"}, {\"x\": 0.02668463760363021, \"y\": -0.08534367769406118, \"id\": 2, \"id_\": 11, \"pair\": \"2,11\"}, {\"x\": 0.02668463760363021, \"y\": -0.08534367769406118, \"id\": 2, \"id_\": 12, \"pair\": \"2,12\"}, {\"x\": 0.02668463760363021, \"y\": -0.08534367769406118, \"id\": 2, \"id_\": 1, \"pair\": \"1,2\"}, {\"x\": 0.05251065094082692, \"y\": -0.10605292921715315, \"id\": 3, \"id_\": 5, \"pair\": \"3,5\"}, {\"x\": 0.05251065094082692, \"y\": -0.10605292921715315, \"id\": 3, \"id_\": 6, \"pair\": \"3,6\"}, {\"x\": 0.05251065094082692, \"y\": -0.10605292921715315, \"id\": 3, \"id_\": 8, \"pair\": \"3,8\"}, {\"x\": 0.05251065094082692, \"y\": -0.10605292921715315, \"id\": 3, \"id_\": 10, \"pair\": \"3,10\"}, {\"x\": 0.05251065094082692, \"y\": -0.10605292921715315, \"id\": 3, \"id_\": 11, \"pair\": \"3,11\"}, {\"x\": 0.05251065094082692, \"y\": -0.10605292921715315, \"id\": 3, \"id_\": 12, \"pair\": \"3,12\"}, {\"x\": 0.05251065094082692, \"y\": -0.10605292921715315, \"id\": 3, \"id_\": 1, \"pair\": \"1,3\"}, {\"x\": 0.05251065094082692, \"y\": -0.10605292921715315, \"id\": 3, \"id_\": 2, \"pair\": \"2,3\"}, {\"x\": -0.10284677127821848, \"y\": 0.7071574178317404, \"id\": 4, \"id_\": 7, \"pair\": \"4,7\"}, {\"x\": -0.006095161793137405, \"y\": -0.09091554235413705, \"id\": 5, \"id_\": 6, \"pair\": \"5,6\"}, {\"x\": -0.006095161793137405, \"y\": -0.09091554235413705, \"id\": 5, \"id_\": 8, \"pair\": \"5,8\"}, {\"x\": -0.006095161793137405, \"y\": -0.09091554235413705, \"id\": 5, \"id_\": 10, \"pair\": \"5,10\"}, {\"x\": -0.006095161793137405, \"y\": -0.09091554235413705, \"id\": 5, \"id_\": 11, \"pair\": \"5,11\"}, {\"x\": -0.006095161793137405, \"y\": -0.09091554235413705, \"id\": 5, \"id_\": 12, \"pair\": \"5,12\"}, {\"x\": -0.006095161793137405, \"y\": -0.09091554235413705, \"id\": 5, \"id_\": 1, \"pair\": \"1,5\"}, {\"x\": -0.006095161793137405, \"y\": -0.09091554235413705, \"id\": 5, \"id_\": 2, \"pair\": \"2,5\"}, {\"x\": -0.006095161793137405, \"y\": -0.09091554235413705, \"id\": 5, \"id_\": 3, \"pair\": \"3,5\"}, {\"x\": -0.03731888850523791, \"y\": -0.15903257080211647, \"id\": 6, \"id_\": 8, \"pair\": \"6,8\"}, {\"x\": -0.03731888850523791, \"y\": -0.15903257080211647, \"id\": 6, \"id_\": 10, \"pair\": \"6,10\"}, {\"x\": -0.03731888850523791, \"y\": -0.15903257080211647, \"id\": 6, \"id_\": 11, \"pair\": \"6,11\"}, {\"x\": -0.03731888850523791, \"y\": -0.15903257080211647, \"id\": 6, \"id_\": 12, \"pair\": \"6,12\"}, {\"x\": -0.03731888850523791, \"y\": -0.15903257080211647, \"id\": 6, \"id_\": 13, \"pair\": \"6,13\"}, {\"x\": -0.03731888850523791, \"y\": -0.15903257080211647, \"id\": 6, \"id_\": 14, \"pair\": \"6,14\"}, {\"x\": -0.03731888850523791, \"y\": -0.15903257080211647, \"id\": 6, \"id_\": 15, \"pair\": \"6,15\"}, {\"x\": -0.03731888850523791, \"y\": -0.15903257080211647, \"id\": 6, \"id_\": 16, \"pair\": \"6,16\"}, {\"x\": -0.03731888850523791, \"y\": -0.15903257080211647, \"id\": 6, \"id_\": 17, \"pair\": \"6,17\"}, {\"x\": -0.03731888850523791, \"y\": -0.15903257080211647, \"id\": 6, \"id_\": 18, \"pair\": \"6,18\"}, {\"x\": -0.03731888850523791, \"y\": -0.15903257080211647, \"id\": 6, \"id_\": 20, \"pair\": \"6,20\"}, {\"x\": -0.03731888850523791, \"y\": -0.15903257080211647, \"id\": 6, \"id_\": 21, \"pair\": \"6,21\"}, {\"x\": -0.03731888850523791, \"y\": -0.15903257080211647, \"id\": 6, \"id_\": 24, \"pair\": \"6,24\"}, {\"x\": -0.03731888850523791, \"y\": -0.15903257080211647, \"id\": 6, \"id_\": 1, \"pair\": \"1,6\"}, {\"x\": -0.03731888850523791, \"y\": -0.15903257080211647, \"id\": 6, \"id_\": 2, \"pair\": \"2,6\"}, {\"x\": -0.03731888850523791, \"y\": -0.15903257080211647, \"id\": 6, \"id_\": 3, \"pair\": \"3,6\"}, {\"x\": -0.03731888850523791, \"y\": -0.15903257080211647, \"id\": 6, \"id_\": 5, \"pair\": \"5,6\"}, {\"x\": -0.011248635066260237, \"y\": 0.6619897357401289, \"id\": 7, \"id_\": 19, \"pair\": \"7,19\"}, {\"x\": -0.011248635066260237, \"y\": 0.6619897357401289, \"id\": 7, \"id_\": 22, \"pair\": \"7,22\"}, {\"x\": -0.011248635066260237, \"y\": 0.6619897357401289, \"id\": 7, \"id_\": 23, \"pair\": \"7,23\"}, {\"x\": -0.011248635066260237, \"y\": 0.6619897357401289, \"id\": 7, \"id_\": 25, \"pair\": \"7,25\"}, {\"x\": -0.011248635066260237, \"y\": 0.6619897357401289, \"id\": 7, \"id_\": 4, \"pair\": \"4,7\"}, {\"x\": 0.051157664285587136, \"y\": -0.15693341963827842, \"id\": 8, \"id_\": 10, \"pair\": \"8,10\"}, {\"x\": 0.051157664285587136, \"y\": -0.15693341963827842, \"id\": 8, \"id_\": 11, \"pair\": \"8,11\"}, {\"x\": 0.051157664285587136, \"y\": -0.15693341963827842, \"id\": 8, \"id_\": 12, \"pair\": \"8,12\"}, {\"x\": 0.051157664285587136, \"y\": -0.15693341963827842, \"id\": 8, \"id_\": 1, \"pair\": \"1,8\"}, {\"x\": 0.051157664285587136, \"y\": -0.15693341963827842, \"id\": 8, \"id_\": 2, \"pair\": \"2,8\"}, {\"x\": 0.051157664285587136, \"y\": -0.15693341963827842, \"id\": 8, \"id_\": 3, \"pair\": \"3,8\"}, {\"x\": 0.051157664285587136, \"y\": -0.15693341963827842, \"id\": 8, \"id_\": 5, \"pair\": \"5,8\"}, {\"x\": 0.051157664285587136, \"y\": -0.15693341963827842, \"id\": 8, \"id_\": 6, \"pair\": \"6,8\"}, {\"x\": 0.06637339103801859, \"y\": -0.1324413959426885, \"id\": 10, \"id_\": 11, \"pair\": \"10,11\"}, {\"x\": 0.06637339103801859, \"y\": -0.1324413959426885, \"id\": 10, \"id_\": 12, \"pair\": \"10,12\"}, {\"x\": 0.06637339103801859, \"y\": -0.1324413959426885, \"id\": 10, \"id_\": 1, \"pair\": \"1,10\"}, {\"x\": 0.06637339103801859, \"y\": -0.1324413959426885, \"id\": 10, \"id_\": 2, \"pair\": \"2,10\"}, {\"x\": 0.06637339103801859, \"y\": -0.1324413959426885, \"id\": 10, \"id_\": 3, \"pair\": \"3,10\"}, {\"x\": 0.06637339103801859, \"y\": -0.1324413959426885, \"id\": 10, \"id_\": 5, \"pair\": \"5,10\"}, {\"x\": 0.06637339103801859, \"y\": -0.1324413959426885, \"id\": 10, \"id_\": 6, \"pair\": \"6,10\"}, {\"x\": 0.06637339103801859, \"y\": -0.1324413959426885, \"id\": 10, \"id_\": 8, \"pair\": \"8,10\"}, {\"x\": -0.02332955346379471, \"y\": -0.17202785189034336, \"id\": 11, \"id_\": 12, \"pair\": \"11,12\"}, {\"x\": -0.02332955346379471, \"y\": -0.17202785189034336, \"id\": 11, \"id_\": 13, \"pair\": \"11,13\"}, {\"x\": -0.02332955346379471, \"y\": -0.17202785189034336, \"id\": 11, \"id_\": 14, \"pair\": \"11,14\"}, {\"x\": -0.02332955346379471, \"y\": -0.17202785189034336, \"id\": 11, \"id_\": 15, \"pair\": \"11,15\"}, {\"x\": -0.02332955346379471, \"y\": -0.17202785189034336, \"id\": 11, \"id_\": 16, \"pair\": \"11,16\"}, {\"x\": -0.02332955346379471, \"y\": -0.17202785189034336, \"id\": 11, \"id_\": 17, \"pair\": \"11,17\"}, {\"x\": -0.02332955346379471, \"y\": -0.17202785189034336, \"id\": 11, \"id_\": 18, \"pair\": \"11,18\"}, {\"x\": -0.02332955346379471, \"y\": -0.17202785189034336, \"id\": 11, \"id_\": 20, \"pair\": \"11,20\"}, {\"x\": -0.02332955346379471, \"y\": -0.17202785189034336, \"id\": 11, \"id_\": 21, \"pair\": \"11,21\"}, {\"x\": -0.02332955346379471, \"y\": -0.17202785189034336, \"id\": 11, \"id_\": 24, \"pair\": \"11,24\"}, {\"x\": -0.02332955346379471, \"y\": -0.17202785189034336, \"id\": 11, \"id_\": 1, \"pair\": \"1,11\"}, {\"x\": -0.02332955346379471, \"y\": -0.17202785189034336, \"id\": 11, \"id_\": 2, \"pair\": \"2,11\"}, {\"x\": -0.02332955346379471, \"y\": -0.17202785189034336, \"id\": 11, \"id_\": 3, \"pair\": \"3,11\"}, {\"x\": -0.02332955346379471, \"y\": -0.17202785189034336, \"id\": 11, \"id_\": 5, \"pair\": \"5,11\"}, {\"x\": -0.02332955346379471, \"y\": -0.17202785189034336, \"id\": 11, \"id_\": 6, \"pair\": \"6,11\"}, {\"x\": -0.02332955346379471, \"y\": -0.17202785189034336, \"id\": 11, \"id_\": 8, \"pair\": \"8,11\"}, {\"x\": -0.02332955346379471, \"y\": -0.17202785189034336, \"id\": 11, \"id_\": 10, \"pair\": \"10,11\"}, {\"x\": -0.011079251050432093, \"y\": -0.18684279695462613, \"id\": 12, \"id_\": 13, \"pair\": \"12,13\"}, {\"x\": -0.011079251050432093, \"y\": -0.18684279695462613, \"id\": 12, \"id_\": 14, \"pair\": \"12,14\"}, {\"x\": -0.011079251050432093, \"y\": -0.18684279695462613, \"id\": 12, \"id_\": 15, \"pair\": \"12,15\"}, {\"x\": -0.011079251050432093, \"y\": -0.18684279695462613, \"id\": 12, \"id_\": 16, \"pair\": \"12,16\"}, {\"x\": -0.011079251050432093, \"y\": -0.18684279695462613, \"id\": 12, \"id_\": 17, \"pair\": \"12,17\"}, {\"x\": -0.011079251050432093, \"y\": -0.18684279695462613, \"id\": 12, \"id_\": 18, \"pair\": \"12,18\"}, {\"x\": -0.011079251050432093, \"y\": -0.18684279695462613, \"id\": 12, \"id_\": 20, \"pair\": \"12,20\"}, {\"x\": -0.011079251050432093, \"y\": -0.18684279695462613, \"id\": 12, \"id_\": 21, \"pair\": \"12,21\"}, {\"x\": -0.011079251050432093, \"y\": -0.18684279695462613, \"id\": 12, \"id_\": 24, \"pair\": \"12,24\"}, {\"x\": -0.011079251050432093, \"y\": -0.18684279695462613, \"id\": 12, \"id_\": 1, \"pair\": \"1,12\"}, {\"x\": -0.011079251050432093, \"y\": -0.18684279695462613, \"id\": 12, \"id_\": 2, \"pair\": \"2,12\"}, {\"x\": -0.011079251050432093, \"y\": -0.18684279695462613, \"id\": 12, \"id_\": 3, \"pair\": \"3,12\"}, {\"x\": -0.011079251050432093, \"y\": -0.18684279695462613, \"id\": 12, \"id_\": 5, \"pair\": \"5,12\"}, {\"x\": -0.011079251050432093, \"y\": -0.18684279695462613, \"id\": 12, \"id_\": 6, \"pair\": \"6,12\"}, {\"x\": -0.011079251050432093, \"y\": -0.18684279695462613, \"id\": 12, \"id_\": 8, \"pair\": \"8,12\"}, {\"x\": -0.011079251050432093, \"y\": -0.18684279695462613, \"id\": 12, \"id_\": 10, \"pair\": \"10,12\"}, {\"x\": -0.011079251050432093, \"y\": -0.18684279695462613, \"id\": 12, \"id_\": 11, \"pair\": \"11,12\"}, {\"x\": -0.0924436090378846, \"y\": -0.17856937293498276, \"id\": 13, \"id_\": 14, \"pair\": \"13,14\"}, {\"x\": -0.0924436090378846, \"y\": -0.17856937293498276, \"id\": 13, \"id_\": 15, \"pair\": \"13,15\"}, {\"x\": -0.0924436090378846, \"y\": -0.17856937293498276, \"id\": 13, \"id_\": 16, \"pair\": \"13,16\"}, {\"x\": -0.0924436090378846, \"y\": -0.17856937293498276, \"id\": 13, \"id_\": 17, \"pair\": \"13,17\"}, {\"x\": -0.0924436090378846, \"y\": -0.17856937293498276, \"id\": 13, \"id_\": 18, \"pair\": \"13,18\"}, {\"x\": -0.0924436090378846, \"y\": -0.17856937293498276, \"id\": 13, \"id_\": 20, \"pair\": \"13,20\"}, {\"x\": -0.0924436090378846, \"y\": -0.17856937293498276, \"id\": 13, \"id_\": 21, \"pair\": \"13,21\"}, {\"x\": -0.0924436090378846, \"y\": -0.17856937293498276, \"id\": 13, \"id_\": 24, \"pair\": \"13,24\"}, {\"x\": -0.0924436090378846, \"y\": -0.17856937293498276, \"id\": 13, \"id_\": 6, \"pair\": \"6,13\"}, {\"x\": -0.0924436090378846, \"y\": -0.17856937293498276, \"id\": 13, \"id_\": 11, \"pair\": \"11,13\"}, {\"x\": -0.0924436090378846, \"y\": -0.17856937293498276, \"id\": 13, \"id_\": 12, \"pair\": \"12,13\"}, {\"x\": -0.05149665788665899, \"y\": -0.22322580540983633, \"id\": 14, \"id_\": 15, \"pair\": \"14,15\"}, {\"x\": -0.05149665788665899, \"y\": -0.22322580540983633, \"id\": 14, \"id_\": 16, \"pair\": \"14,16\"}, {\"x\": -0.05149665788665899, \"y\": -0.22322580540983633, \"id\": 14, \"id_\": 17, \"pair\": \"14,17\"}, {\"x\": -0.05149665788665899, \"y\": -0.22322580540983633, \"id\": 14, \"id_\": 18, \"pair\": \"14,18\"}, {\"x\": -0.05149665788665899, \"y\": -0.22322580540983633, \"id\": 14, \"id_\": 20, \"pair\": \"14,20\"}, {\"x\": -0.05149665788665899, \"y\": -0.22322580540983633, \"id\": 14, \"id_\": 21, \"pair\": \"14,21\"}, {\"x\": -0.05149665788665899, \"y\": -0.22322580540983633, \"id\": 14, \"id_\": 24, \"pair\": \"14,24\"}, {\"x\": -0.05149665788665899, \"y\": -0.22322580540983633, \"id\": 14, \"id_\": 6, \"pair\": \"6,14\"}, {\"x\": -0.05149665788665899, \"y\": -0.22322580540983633, \"id\": 14, \"id_\": 11, \"pair\": \"11,14\"}, {\"x\": -0.05149665788665899, \"y\": -0.22322580540983633, \"id\": 14, \"id_\": 12, \"pair\": \"12,14\"}, {\"x\": -0.05149665788665899, \"y\": -0.22322580540983633, \"id\": 14, \"id_\": 13, \"pair\": \"13,14\"}, {\"x\": -0.09958420189746536, \"y\": -0.22133830938891422, \"id\": 15, \"id_\": 16, \"pair\": \"15,16\"}, {\"x\": -0.09958420189746536, \"y\": -0.22133830938891422, \"id\": 15, \"id_\": 17, \"pair\": \"15,17\"}, {\"x\": -0.09958420189746536, \"y\": -0.22133830938891422, \"id\": 15, \"id_\": 18, \"pair\": \"15,18\"}, {\"x\": -0.09958420189746536, \"y\": -0.22133830938891422, \"id\": 15, \"id_\": 20, \"pair\": \"15,20\"}, {\"x\": -0.09958420189746536, \"y\": -0.22133830938891422, \"id\": 15, \"id_\": 21, \"pair\": \"15,21\"}, {\"x\": -0.09958420189746536, \"y\": -0.22133830938891422, \"id\": 15, \"id_\": 24, \"pair\": \"15,24\"}, {\"x\": -0.09958420189746536, \"y\": -0.22133830938891422, \"id\": 15, \"id_\": 6, \"pair\": \"6,15\"}, {\"x\": -0.09958420189746536, \"y\": -0.22133830938891422, \"id\": 15, \"id_\": 11, \"pair\": \"11,15\"}, {\"x\": -0.09958420189746536, \"y\": -0.22133830938891422, \"id\": 15, \"id_\": 12, \"pair\": \"12,15\"}, {\"x\": -0.09958420189746536, \"y\": -0.22133830938891422, \"id\": 15, \"id_\": 13, \"pair\": \"13,15\"}, {\"x\": -0.09958420189746536, \"y\": -0.22133830938891422, \"id\": 15, \"id_\": 14, \"pair\": \"14,15\"}, {\"x\": -0.11222152519726174, \"y\": -0.19991549701052824, \"id\": 16, \"id_\": 17, \"pair\": \"16,17\"}, {\"x\": -0.11222152519726174, \"y\": -0.19991549701052824, \"id\": 16, \"id_\": 18, \"pair\": \"16,18\"}, {\"x\": -0.11222152519726174, \"y\": -0.19991549701052824, \"id\": 16, \"id_\": 20, \"pair\": \"16,20\"}, {\"x\": -0.11222152519726174, \"y\": -0.19991549701052824, \"id\": 16, \"id_\": 21, \"pair\": \"16,21\"}, {\"x\": -0.11222152519726174, \"y\": -0.19991549701052824, \"id\": 16, \"id_\": 24, \"pair\": \"16,24\"}, {\"x\": -0.11222152519726174, \"y\": -0.19991549701052824, \"id\": 16, \"id_\": 6, \"pair\": \"6,16\"}, {\"x\": -0.11222152519726174, \"y\": -0.19991549701052824, \"id\": 16, \"id_\": 11, \"pair\": \"11,16\"}, {\"x\": -0.11222152519726174, \"y\": -0.19991549701052824, \"id\": 16, \"id_\": 12, \"pair\": \"12,16\"}, {\"x\": -0.11222152519726174, \"y\": -0.19991549701052824, \"id\": 16, \"id_\": 13, \"pair\": \"13,16\"}, {\"x\": -0.11222152519726174, \"y\": -0.19991549701052824, \"id\": 16, \"id_\": 14, \"pair\": \"14,16\"}, {\"x\": -0.11222152519726174, \"y\": -0.19991549701052824, \"id\": 16, \"id_\": 15, \"pair\": \"15,16\"}, {\"x\": -0.05165777772247965, \"y\": -0.2601195664396992, \"id\": 17, \"id_\": 18, \"pair\": \"17,18\"}, {\"x\": -0.05165777772247965, \"y\": -0.2601195664396992, \"id\": 17, \"id_\": 20, \"pair\": \"17,20\"}, {\"x\": -0.05165777772247965, \"y\": -0.2601195664396992, \"id\": 17, \"id_\": 21, \"pair\": \"17,21\"}, {\"x\": -0.05165777772247965, \"y\": -0.2601195664396992, \"id\": 17, \"id_\": 24, \"pair\": \"17,24\"}, {\"x\": -0.05165777772247965, \"y\": -0.2601195664396992, \"id\": 17, \"id_\": 6, \"pair\": \"6,17\"}, {\"x\": -0.05165777772247965, \"y\": -0.2601195664396992, \"id\": 17, \"id_\": 11, \"pair\": \"11,17\"}, {\"x\": -0.05165777772247965, \"y\": -0.2601195664396992, \"id\": 17, \"id_\": 12, \"pair\": \"12,17\"}, {\"x\": -0.05165777772247965, \"y\": -0.2601195664396992, \"id\": 17, \"id_\": 13, \"pair\": \"13,17\"}, {\"x\": -0.05165777772247965, \"y\": -0.2601195664396992, \"id\": 17, \"id_\": 14, \"pair\": \"14,17\"}, {\"x\": -0.05165777772247965, \"y\": -0.2601195664396992, \"id\": 17, \"id_\": 15, \"pair\": \"15,17\"}, {\"x\": -0.05165777772247965, \"y\": -0.2601195664396992, \"id\": 17, \"id_\": 16, \"pair\": \"16,17\"}, {\"x\": -0.07324720058518978, \"y\": -0.2008163089519137, \"id\": 18, \"id_\": 20, \"pair\": \"18,20\"}, {\"x\": -0.07324720058518978, \"y\": -0.2008163089519137, \"id\": 18, \"id_\": 21, \"pair\": \"18,21\"}, {\"x\": -0.07324720058518978, \"y\": -0.2008163089519137, \"id\": 18, \"id_\": 24, \"pair\": \"18,24\"}, {\"x\": -0.07324720058518978, \"y\": -0.2008163089519137, \"id\": 18, \"id_\": 6, \"pair\": \"6,18\"}, {\"x\": -0.07324720058518978, \"y\": -0.2008163089519137, \"id\": 18, \"id_\": 11, \"pair\": \"11,18\"}, {\"x\": -0.07324720058518978, \"y\": -0.2008163089519137, \"id\": 18, \"id_\": 12, \"pair\": \"12,18\"}, {\"x\": -0.07324720058518978, \"y\": -0.2008163089519137, \"id\": 18, \"id_\": 13, \"pair\": \"13,18\"}, {\"x\": -0.07324720058518978, \"y\": -0.2008163089519137, \"id\": 18, \"id_\": 14, \"pair\": \"14,18\"}, {\"x\": -0.07324720058518978, \"y\": -0.2008163089519137, \"id\": 18, \"id_\": 15, \"pair\": \"15,18\"}, {\"x\": -0.07324720058518978, \"y\": -0.2008163089519137, \"id\": 18, \"id_\": 16, \"pair\": \"16,18\"}, {\"x\": -0.07324720058518978, \"y\": -0.2008163089519137, \"id\": 18, \"id_\": 17, \"pair\": \"17,18\"}, {\"x\": 0.048939126269281236, \"y\": 0.6166362848731373, \"id\": 19, \"id_\": 22, \"pair\": \"19,22\"}, {\"x\": 0.048939126269281236, \"y\": 0.6166362848731373, \"id\": 19, \"id_\": 23, \"pair\": \"19,23\"}, {\"x\": 0.048939126269281236, \"y\": 0.6166362848731373, \"id\": 19, \"id_\": 25, \"pair\": \"19,25\"}, {\"x\": 0.048939126269281236, \"y\": 0.6166362848731373, \"id\": 19, \"id_\": 7, \"pair\": \"7,19\"}, {\"x\": -0.029097324060691182, \"y\": -0.24182214394266777, \"id\": 20, \"id_\": 21, \"pair\": \"20,21\"}, {\"x\": -0.029097324060691182, \"y\": -0.24182214394266777, \"id\": 20, \"id_\": 24, \"pair\": \"20,24\"}, {\"x\": -0.029097324060691182, \"y\": -0.24182214394266777, \"id\": 20, \"id_\": 6, \"pair\": \"6,20\"}, {\"x\": -0.029097324060691182, \"y\": -0.24182214394266777, \"id\": 20, \"id_\": 11, \"pair\": \"11,20\"}, {\"x\": -0.029097324060691182, \"y\": -0.24182214394266777, \"id\": 20, \"id_\": 12, \"pair\": \"12,20\"}, {\"x\": -0.029097324060691182, \"y\": -0.24182214394266777, \"id\": 20, \"id_\": 13, \"pair\": \"13,20\"}, {\"x\": -0.029097324060691182, \"y\": -0.24182214394266777, \"id\": 20, \"id_\": 14, \"pair\": \"14,20\"}, {\"x\": -0.029097324060691182, \"y\": -0.24182214394266777, \"id\": 20, \"id_\": 15, \"pair\": \"15,20\"}, {\"x\": -0.029097324060691182, \"y\": -0.24182214394266777, \"id\": 20, \"id_\": 16, \"pair\": \"16,20\"}, {\"x\": -0.029097324060691182, \"y\": -0.24182214394266777, \"id\": 20, \"id_\": 17, \"pair\": \"17,20\"}, {\"x\": -0.029097324060691182, \"y\": -0.24182214394266777, \"id\": 20, \"id_\": 18, \"pair\": \"18,20\"}, {\"x\": -0.07443151262954653, \"y\": -0.24895554375913212, \"id\": 21, \"id_\": 24, \"pair\": \"21,24\"}, {\"x\": -0.07443151262954653, \"y\": -0.24895554375913212, \"id\": 21, \"id_\": 6, \"pair\": \"6,21\"}, {\"x\": -0.07443151262954653, \"y\": -0.24895554375913212, \"id\": 21, \"id_\": 11, \"pair\": \"11,21\"}, {\"x\": -0.07443151262954653, \"y\": -0.24895554375913212, \"id\": 21, \"id_\": 12, \"pair\": \"12,21\"}, {\"x\": -0.07443151262954653, \"y\": -0.24895554375913212, \"id\": 21, \"id_\": 13, \"pair\": \"13,21\"}, {\"x\": -0.07443151262954653, \"y\": -0.24895554375913212, \"id\": 21, \"id_\": 14, \"pair\": \"14,21\"}, {\"x\": -0.07443151262954653, \"y\": -0.24895554375913212, \"id\": 21, \"id_\": 15, \"pair\": \"15,21\"}, {\"x\": -0.07443151262954653, \"y\": -0.24895554375913212, \"id\": 21, \"id_\": 16, \"pair\": \"16,21\"}, {\"x\": -0.07443151262954653, \"y\": -0.24895554375913212, \"id\": 21, \"id_\": 17, \"pair\": \"17,21\"}, {\"x\": -0.07443151262954653, \"y\": -0.24895554375913212, \"id\": 21, \"id_\": 18, \"pair\": \"18,21\"}, {\"x\": -0.07443151262954653, \"y\": -0.24895554375913212, \"id\": 21, \"id_\": 20, \"pair\": \"20,21\"}, {\"x\": 0.08430837146365036, \"y\": 0.6845163073714994, \"id\": 22, \"id_\": 23, \"pair\": \"22,23\"}, {\"x\": 0.08430837146365036, \"y\": 0.6845163073714994, \"id\": 22, \"id_\": 25, \"pair\": \"22,25\"}, {\"x\": 0.08430837146365036, \"y\": 0.6845163073714994, \"id\": 22, \"id_\": 7, \"pair\": \"7,22\"}, {\"x\": 0.08430837146365036, \"y\": 0.6845163073714994, \"id\": 22, \"id_\": 19, \"pair\": \"19,22\"}, {\"x\": 0.03315375717683136, \"y\": 0.7047161522618571, \"id\": 23, \"id_\": 25, \"pair\": \"23,25\"}, {\"x\": 0.03315375717683136, \"y\": 0.7047161522618571, \"id\": 23, \"id_\": 7, \"pair\": \"7,23\"}, {\"x\": 0.03315375717683136, \"y\": 0.7047161522618571, \"id\": 23, \"id_\": 19, \"pair\": \"19,23\"}, {\"x\": 0.03315375717683136, \"y\": 0.7047161522618571, \"id\": 23, \"id_\": 22, \"pair\": \"22,23\"}, {\"x\": -0.0997963682521396, \"y\": -0.24665565467385223, \"id\": 24, \"id_\": 6, \"pair\": \"6,24\"}, {\"x\": -0.0997963682521396, \"y\": -0.24665565467385223, \"id\": 24, \"id_\": 11, \"pair\": \"11,24\"}, {\"x\": -0.0997963682521396, \"y\": -0.24665565467385223, \"id\": 24, \"id_\": 12, \"pair\": \"12,24\"}, {\"x\": -0.0997963682521396, \"y\": -0.24665565467385223, \"id\": 24, \"id_\": 13, \"pair\": \"13,24\"}, {\"x\": -0.0997963682521396, \"y\": -0.24665565467385223, \"id\": 24, \"id_\": 14, \"pair\": \"14,24\"}, {\"x\": -0.0997963682521396, \"y\": -0.24665565467385223, \"id\": 24, \"id_\": 15, \"pair\": \"15,24\"}, {\"x\": -0.0997963682521396, \"y\": -0.24665565467385223, \"id\": 24, \"id_\": 16, \"pair\": \"16,24\"}, {\"x\": -0.0997963682521396, \"y\": -0.24665565467385223, \"id\": 24, \"id_\": 17, \"pair\": \"17,24\"}, {\"x\": -0.0997963682521396, \"y\": -0.24665565467385223, \"id\": 24, \"id_\": 18, \"pair\": \"18,24\"}, {\"x\": -0.0997963682521396, \"y\": -0.24665565467385223, \"id\": 24, \"id_\": 20, \"pair\": \"20,24\"}, {\"x\": -0.0997963682521396, \"y\": -0.24665565467385223, \"id\": 24, \"id_\": 21, \"pair\": \"21,24\"}, {\"x\": 0.048786320976629376, \"y\": 0.6650216897220697, \"id\": 25, \"id_\": 7, \"pair\": \"7,25\"}, {\"x\": 0.048786320976629376, \"y\": 0.6650216897220697, \"id\": 25, \"id_\": 19, \"pair\": \"19,25\"}, {\"x\": 0.048786320976629376, \"y\": 0.6650216897220697, \"id\": 25, \"id_\": 22, \"pair\": \"22,25\"}, {\"x\": 0.048786320976629376, \"y\": 0.6650216897220697, \"id\": 25, \"id_\": 23, \"pair\": \"23,25\"}]}};\n",
       "var opt = {};\n",
       "var type = \"vega-lite\";\n",
       "var id = \"e3751b0b-f400-4f88-abec-e302b4e5b98d\";\n",
       "\n",
       "var output_area = this;\n",
       "\n",
       "require([\"nbextensions/jupyter-vega/index\"], function(vega) {\n",
       "  var target = document.createElement(\"div\");\n",
       "  target.id = id;\n",
       "  target.className = \"vega-embed\";\n",
       "\n",
       "  var style = document.createElement(\"style\");\n",
       "  style.textContent = [\n",
       "    \".vega-embed .error p {\",\n",
       "    \"  color: firebrick;\",\n",
       "    \"  font-size: 14px;\",\n",
       "    \"}\",\n",
       "  ].join(\"\\\\n\");\n",
       "\n",
       "  // element is a jQuery wrapped DOM element inside the output area\n",
       "  // see http://ipython.readthedocs.io/en/stable/api/generated/\\\n",
       "  // IPython.display.html#IPython.display.Javascript.__init__\n",
       "  element[0].appendChild(target);\n",
       "  element[0].appendChild(style);\n",
       "\n",
       "  vega.render(\"#\" + id, spec, type, opt, output_area);\n",
       "}, function (err) {\n",
       "  if (err.requireType !== \"scripterror\") {\n",
       "    throw(err);\n",
       "  }\n",
       "});\n"
      ],
      "text/plain": [
       "<vega.vegalite.VegaLite at 0x7ff1282cfc50>"
      ]
     },
     "metadata": {
      "jupyter-vega": "#e3751b0b-f400-4f88-abec-e302b4e5b98d"
     },
     "output_type": "display_data"
    },
    {
     "data": {
      "image/png": "[encoded data removed]"
     },
     "metadata": {
      "jupyter-vega": "#e3751b0b-f400-4f88-abec-e302b4e5b98d"
     },
     "output_type": "display_data"
    },
    {
     "data": {
      "text/plain": []
     },
     "execution_count": 128,
     "metadata": {},
     "output_type": "execute_result"
    }
   ],
   "source": [
    "select = alt.selection_multi(fields=['authors'])\n",
    "\n",
    "chart_na = alt.Chart(df).mark_circle(size=200).encode(\n",
    "    x = 'x_a',\n",
    "    y = 'y_a',\n",
    "    fill = alt.condition(select,alt.value('blue'),alt.value('lightgray')),\n",
    "    opacity = alt.value(1),\n",
    "    tooltip = 'authors'\n",
    ").properties(selection=select)\n",
    "\n",
    "\n",
    "chart_np = alt.Chart(df).mark_circle(size=200).encode(\n",
    "    x = 'x_p',\n",
    "    y = 'y_p',\n",
    "    fill = alt.condition(select,alt.value('red'),alt.value('lightgray')),\n",
    "    opacity = alt.condition(select,alt.value(1),alt.value(0.8)),\n",
    "    tooltip = 'paper_name'\n",
    ")\n",
    "\n",
    "chart_ea = alt.Chart(graf_egdes_authors).mark_line().encode(\n",
    "    x = 'x',\n",
    "    y = 'y',\n",
    "    opacity = alt.value(1),\n",
    "    color   = alt.value('black'),\n",
    "    detail='pair'\n",
    ").interactive()\n",
    "\n",
    "chart_ep = alt.Chart(graf_egdes_papers).mark_line().encode(\n",
    "    x = 'x',\n",
    "    y = 'y',\n",
    "    opacity = alt.value(1),\n",
    "    color=alt.value('black'),\n",
    "    detail='pair'\n",
    ").interactive()\n",
    "\n",
    "chart = chart_ea + chart_na | chart_ep + chart_np\n",
    "\n",
    "chart"
   ]
  },
  {
   "cell_type": "code",
   "execution_count": 122,
   "metadata": {},
   "outputs": [
    {
     "data": {
      "text/html": [
       "<div>\n",
       "<style scoped>\n",
       "    .dataframe tbody tr th:only-of-type {\n",
       "        vertical-align: middle;\n",
       "    }\n",
       "\n",
       "    .dataframe tbody tr th {\n",
       "        vertical-align: top;\n",
       "    }\n",
       "\n",
       "    .dataframe thead th {\n",
       "        text-align: right;\n",
       "    }\n",
       "</style>\n",
       "<table border=\"1\" class=\"dataframe\">\n",
       "  <thead>\n",
       "    <tr style=\"text-align: right;\">\n",
       "      <th></th>\n",
       "      <th>author_id</th>\n",
       "      <th>authors</th>\n",
       "      <th>paper_id</th>\n",
       "      <th>paper_name</th>\n",
       "      <th>x_a</th>\n",
       "      <th>y_a</th>\n",
       "      <th>id_a</th>\n",
       "      <th>x_p</th>\n",
       "      <th>y_p</th>\n",
       "      <th>id_p</th>\n",
       "      <th>x_a</th>\n",
       "      <th>y_a</th>\n",
       "      <th>id_a</th>\n",
       "      <th>x_p</th>\n",
       "      <th>y_p</th>\n",
       "      <th>id_p</th>\n",
       "    </tr>\n",
       "  </thead>\n",
       "  <tbody>\n",
       "    <tr>\n",
       "      <th>76</th>\n",
       "      <td>27</td>\n",
       "      <td>TRSM Nogueira</td>\n",
       "      <td>26</td>\n",
       "      <td>Nomeação de coalizão﻿</td>\n",
       "      <td>0.915982</td>\n",
       "      <td>-0.663721</td>\n",
       "      <td>27</td>\n",
       "      <td>NaN</td>\n",
       "      <td>NaN</td>\n",
       "      <td>NaN</td>\n",
       "      <td>0.915982</td>\n",
       "      <td>-0.663721</td>\n",
       "      <td>27</td>\n",
       "      <td>-1.0</td>\n",
       "      <td>0.372426</td>\n",
       "      <td>26</td>\n",
       "    </tr>\n",
       "  </tbody>\n",
       "</table>\n",
       "</div>"
      ],
      "text/plain": [
       "    author_id        authors  paper_id             paper_name       x_a  \\\n",
       "76         27  TRSM Nogueira        26  Nomeação de coalizão﻿  0.915982   \n",
       "\n",
       "         y_a  id_a  x_p  y_p  id_p       x_a       y_a  id_a  x_p       y_p  \\\n",
       "76 -0.663721    27  NaN  NaN   NaN  0.915982 -0.663721    27 -1.0  0.372426   \n",
       "\n",
       "    id_p  \n",
       "76    26  "
      ]
     },
     "execution_count": 122,
     "metadata": {},
     "output_type": "execute_result"
    }
   ],
   "source": [
    "df[df['authors']=='TRSM Nogueira']"
   ]
  },
  {
   "cell_type": "code",
   "execution_count": 60,
   "metadata": {},
   "outputs": [
    {
     "data": {
      "text/html": [
       "<div>\n",
       "<style scoped>\n",
       "    .dataframe tbody tr th:only-of-type {\n",
       "        vertical-align: middle;\n",
       "    }\n",
       "\n",
       "    .dataframe tbody tr th {\n",
       "        vertical-align: top;\n",
       "    }\n",
       "\n",
       "    .dataframe thead th {\n",
       "        text-align: right;\n",
       "    }\n",
       "</style>\n",
       "<table border=\"1\" class=\"dataframe\">\n",
       "  <thead>\n",
       "    <tr style=\"text-align: right;\">\n",
       "      <th></th>\n",
       "      <th>author_id</th>\n",
       "      <th>authors</th>\n",
       "      <th>paper_id</th>\n",
       "      <th>paper_name</th>\n",
       "      <th>x_a</th>\n",
       "      <th>y_a</th>\n",
       "      <th>id_a</th>\n",
       "      <th>x_p</th>\n",
       "      <th>y_p</th>\n",
       "      <th>id_p</th>\n",
       "    </tr>\n",
       "  </thead>\n",
       "  <tbody>\n",
       "    <tr>\n",
       "      <th>74</th>\n",
       "      <td>25</td>\n",
       "      <td>RE Glezer</td>\n",
       "      <td>26</td>\n",
       "      <td>Nomeação de coalizão﻿</td>\n",
       "      <td>0.885906</td>\n",
       "      <td>-0.042567</td>\n",
       "      <td>25</td>\n",
       "      <td>0.010565</td>\n",
       "      <td>0.744124</td>\n",
       "      <td>25.0</td>\n",
       "    </tr>\n",
       "    <tr>\n",
       "      <th>75</th>\n",
       "      <td>28</td>\n",
       "      <td>VH Thorstensen</td>\n",
       "      <td>26</td>\n",
       "      <td>Nomeação de coalizão﻿</td>\n",
       "      <td>0.841726</td>\n",
       "      <td>0.002488</td>\n",
       "      <td>28</td>\n",
       "      <td>NaN</td>\n",
       "      <td>NaN</td>\n",
       "      <td>NaN</td>\n",
       "    </tr>\n",
       "    <tr>\n",
       "      <th>76</th>\n",
       "      <td>27</td>\n",
       "      <td>TRSM Nogueira</td>\n",
       "      <td>26</td>\n",
       "      <td>Nomeação de coalizão﻿</td>\n",
       "      <td>0.894405</td>\n",
       "      <td>0.034211</td>\n",
       "      <td>27</td>\n",
       "      <td>NaN</td>\n",
       "      <td>NaN</td>\n",
       "      <td>NaN</td>\n",
       "    </tr>\n",
       "    <tr>\n",
       "      <th>77</th>\n",
       "      <td>16</td>\n",
       "      <td>D Campello</td>\n",
       "      <td>26</td>\n",
       "      <td>Nomeação de coalizão﻿</td>\n",
       "      <td>0.931134</td>\n",
       "      <td>-0.033490</td>\n",
       "      <td>16</td>\n",
       "      <td>0.000589</td>\n",
       "      <td>-0.214722</td>\n",
       "      <td>16.0</td>\n",
       "    </tr>\n",
       "    <tr>\n",
       "      <th>78</th>\n",
       "      <td>18</td>\n",
       "      <td>EM Almeida</td>\n",
       "      <td>26</td>\n",
       "      <td>Nomeação de coalizão﻿</td>\n",
       "      <td>0.936239</td>\n",
       "      <td>0.016859</td>\n",
       "      <td>18</td>\n",
       "      <td>0.011853</td>\n",
       "      <td>-0.154134</td>\n",
       "      <td>18.0</td>\n",
       "    </tr>\n",
       "  </tbody>\n",
       "</table>\n",
       "</div>"
      ],
      "text/plain": [
       "    author_id         authors  paper_id             paper_name       x_a  \\\n",
       "74         25       RE Glezer        26  Nomeação de coalizão﻿  0.885906   \n",
       "75         28  VH Thorstensen        26  Nomeação de coalizão﻿  0.841726   \n",
       "76         27   TRSM Nogueira        26  Nomeação de coalizão﻿  0.894405   \n",
       "77         16      D Campello        26  Nomeação de coalizão﻿  0.931134   \n",
       "78         18      EM Almeida        26  Nomeação de coalizão﻿  0.936239   \n",
       "\n",
       "         y_a  id_a       x_p       y_p  id_p  \n",
       "74 -0.042567    25  0.010565  0.744124  25.0  \n",
       "75  0.002488    28       NaN       NaN   NaN  \n",
       "76  0.034211    27       NaN       NaN   NaN  \n",
       "77 -0.033490    16  0.000589 -0.214722  16.0  \n",
       "78  0.016859    18  0.011853 -0.154134  18.0  "
      ]
     },
     "execution_count": 60,
     "metadata": {},
     "output_type": "execute_result"
    }
   ],
   "source": [
    "df[df['paper_id']==26]"
   ]
  }
 ],
 "metadata": {
  "kernelspec": {
   "display_name": "Python3(datascience)",
   "language": "python",
   "name": "datascience"
  },
  "language_info": {
   "codemirror_mode": {
    "name": "ipython",
    "version": 3
   },
   "file_extension": ".py",
   "mimetype": "text/x-python",
   "name": "python",
   "nbconvert_exporter": "python",
   "pygments_lexer": "ipython3",
   "version": "3.6.8"
  }
 },
 "nbformat": 4,
 "nbformat_minor": 2
}
