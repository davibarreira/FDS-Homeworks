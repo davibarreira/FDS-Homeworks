{
 "cells": [
  {
   "cell_type": "code",
   "execution_count": 85,
   "metadata": {},
   "outputs": [],
   "source": [
    "from selenium import webdriver\n",
    "from bs4 import BeautifulSoup\n",
    "import pandas as pd"
   ]
  },
  {
   "cell_type": "code",
   "execution_count": 2,
   "metadata": {},
   "outputs": [],
   "source": [
    "# Acessar o scholar\n",
    "# Buscar o nome de um autor (escrever nome e clicar em pesquisar)\n",
    "# Checar se existe autor (1 ou mais)\n",
    "#    Se autor não existe, reportar falha na busca\n",
    "#    Se existe um único autor, entrar na página\n",
    "#    Se existem vários matches, fazer coleta em todos (ou só no primeiro)"
   ]
  },
  {
   "cell_type": "code",
   "execution_count": 62,
   "metadata": {},
   "outputs": [],
   "source": [
    "url    = 'https://scholar.google.com.br'\n",
    "autor   = 'Jeffrey Heer'"
   ]
  },
  {
   "cell_type": "code",
   "execution_count": 63,
   "metadata": {},
   "outputs": [],
   "source": [
    "driver = webdriver.Firefox()\n",
    "driver.get(url)"
   ]
  },
  {
   "cell_type": "code",
   "execution_count": 64,
   "metadata": {},
   "outputs": [],
   "source": [
    "inputElement = driver.find_element_by_id(\"gs_hdr_tsi\")\n",
    "inputElement.send_keys(autor)"
   ]
  },
  {
   "cell_type": "code",
   "execution_count": 65,
   "metadata": {},
   "outputs": [],
   "source": [
    "driver.find_element_by_id('gs_hdr_tsb').click()"
   ]
  },
  {
   "cell_type": "code",
   "execution_count": 66,
   "metadata": {},
   "outputs": [],
   "source": [
    "soup = BeautifulSoup(driver.page_source)\n",
    "link = soup.find('h4',class_='gs_rt2').contents[0].get('href')\n",
    "autor_url = url+link"
   ]
  },
  {
   "cell_type": "code",
   "execution_count": 67,
   "metadata": {},
   "outputs": [],
   "source": [
    "driver.get(autor_url)"
   ]
  },
  {
   "cell_type": "code",
   "execution_count": 68,
   "metadata": {},
   "outputs": [],
   "source": [
    "btn_More = driver.find_element_by_id('gsc_bpf_more')\n",
    "for i in range(100):\n",
    "    if btn_More.get_attribute('disabled')=='true':\n",
    "        break\n",
    "    else:\n",
    "        driver.find_element_by_id('gsc_bpf_more').click()"
   ]
  },
  {
   "cell_type": "code",
   "execution_count": 69,
   "metadata": {},
   "outputs": [],
   "source": [
    "soup = BeautifulSoup(driver.page_source)"
   ]
  },
  {
   "cell_type": "code",
   "execution_count": 98,
   "metadata": {
    "scrolled": false
   },
   "outputs": [],
   "source": [
    "table = soup.find('table',attrs={\"id\":'gsc_a_t'})"
   ]
  },
  {
   "cell_type": "code",
   "execution_count": 111,
   "metadata": {},
   "outputs": [
    {
     "data": {
      "text/plain": [
       "['M Bostock, V Ogievetsky, J Heer']"
      ]
     },
     "execution_count": 111,
     "metadata": {},
     "output_type": "execute_result"
    }
   ],
   "source": [
    "table.find_all('td',attrs={\"class\":'gsc_a_t'})[0].find('div',attrs={'class':'gs_gray'}).contents"
   ]
  },
  {
   "cell_type": "code",
   "execution_count": 116,
   "metadata": {},
   "outputs": [
    {
     "data": {
      "text/plain": [
       "'D3: Data-Driven Documents'"
      ]
     },
     "execution_count": 116,
     "metadata": {},
     "output_type": "execute_result"
    }
   ],
   "source": [
    "table.find_all('td',attrs={\"class\":'gsc_a_t'})[0].find('a').contents[0]"
   ]
  },
  {
   "cell_type": "code",
   "execution_count": 108,
   "metadata": {},
   "outputs": [
    {
     "data": {
      "text/plain": [
       "<td class=\"gsc_a_t\"><a class=\"gsc_a_at\" data-href=\"/citations?view_op=view_citation&amp;hl=pt-BR&amp;user=vlgs4G4AAAAJ&amp;citation_for_view=vlgs4G4AAAAJ:blknAaTinKkC\" href=\"javascript:void(0)\">D3: Data-Driven Documents</a><div class=\"gs_gray\">M Bostock, V Ogievetsky, J Heer</div><div class=\"gs_gray\">IEEE Transactions on Visualization and Computer Graphics 17 (12), 2301-2309<span class=\"gs_oph\">, 2011</span></div></td>"
      ]
     },
     "execution_count": 108,
     "metadata": {},
     "output_type": "execute_result"
    }
   ],
   "source": [
    "# artigos = lista com nome do artigo e os autores\n",
    "articles = []\n",
    "for article in table.find_all('td',attrs={\"class\":'gsc_a_t'}):\n",
    "    autores = article.find('div',attrs={'class':'gs_gray'}).contents\n",
    "    title   = article.\n",
    "    "
   ]
  }
 ],
 "metadata": {
  "kernelspec": {
   "display_name": "Python3(datascience)",
   "language": "python",
   "name": "datascience"
  },
  "language_info": {
   "codemirror_mode": {
    "name": "ipython",
    "version": 3
   },
   "file_extension": ".py",
   "mimetype": "text/x-python",
   "name": "python",
   "nbconvert_exporter": "python",
   "pygments_lexer": "ipython3",
   "version": "3.6.8"
  }
 },
 "nbformat": 4,
 "nbformat_minor": 2
}
