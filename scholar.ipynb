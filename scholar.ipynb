{
 "cells": [
  {
   "cell_type": "markdown",
   "metadata": {},
   "source": [
    "# Step 1 - Scraping\n",
    "\n",
    "Realizar scraping do google scholar e coletar informações de um autor."
   ]
  },
  {
   "cell_type": "code",
   "execution_count": 178,
   "metadata": {},
   "outputs": [],
   "source": [
    "from selenium import webdriver\n",
    "from selenium.webdriver.firefox.options import Options\n",
    "from bs4 import BeautifulSoup\n",
    "import pandas as pd\n",
    "import time"
   ]
  },
  {
   "cell_type": "code",
   "execution_count": 179,
   "metadata": {},
   "outputs": [],
   "source": [
    "url    = 'https://scholar.google.com.br'\n",
    "autor   = 'Jeffrey Heer'"
   ]
  },
  {
   "cell_type": "code",
   "execution_count": 180,
   "metadata": {},
   "outputs": [],
   "source": [
    "# Acessar via browser o site do Google Scholar\n",
    "options = Options()\n",
    "options.headless = True\n",
    "driver = webdriver.Firefox(options=options)\n",
    "driver.get(url)\n",
    "\n",
    "# Inserir nome do autor a ser buscado e clicar na busca\n",
    "inputElement = driver.find_element_by_id(\"gs_hdr_tsi\")\n",
    "inputElement.send_keys(autor)\n",
    "driver.find_element_by_id('gs_hdr_tsb').click()\n",
    "\n",
    "# Buscar a url com o endereço para a página do autor pesquisado\n",
    "soup = BeautifulSoup(driver.page_source)\n",
    "try:\n",
    "    link = soup.find('h4',class_='gs_rt2').contents[0].get('href')\n",
    "    autor_url = url+link\n",
    "except:\n",
    "    print('Autor não encontrado')\n",
    "    driver.quit()"
   ]
  },
  {
   "cell_type": "code",
   "execution_count": null,
   "metadata": {},
   "outputs": [],
   "source": [
    "# Acessar a página do autor\n",
    "driver.get(autor_url)\n",
    "\n",
    "# Clicar no botão de \"More\" para exibir a página completa\n",
    "btn_More = driver.find_element_by_id('gsc_bpf_more')\n",
    "for i in range(100):\n",
    "    time.sleep(0.1)\n",
    "    if btn_More.get_attribute('disabled')=='true':\n",
    "        break\n",
    "    else:\n",
    "        driver.find_element_by_id('gsc_bpf_more').click()\n",
    "        \n",
    "# Coletar html da página\n",
    "soup = BeautifulSoup(driver.page_source)\n",
    "\n",
    "# Criar lista com papers contendo artigos e autores\n",
    "table = soup.find('table',attrs={\"id\":'gsc_a_t'})\n",
    "papers = []\n",
    "for article in table.find_all('td',attrs={\"class\":'gsc_a_t'}):\n",
    "    autores = article.find('div',attrs={'class':'gs_gray'}).contents[0].split(',')\n",
    "    \n",
    "    # retira o espaço branco no início e final dos nomes, e remove o '...'\n",
    "    autores = [autor.strip() for autor in autores]\n",
    "    if autores[-1]=='...': autores.pop()\n",
    "    \n",
    "    title   = article.find('a').contents[0]\n",
    "    papers.append({'title':title,'authors':autores})\n",
    "\n",
    "    \n",
    "# Fechar browser\n",
    "driver.quit()"
   ]
  },
  {
   "cell_type": "code",
   "execution_count": null,
   "metadata": {},
   "outputs": [],
   "source": [
    "papers"
   ]
  },
  {
   "cell_type": "code",
   "execution_count": null,
   "metadata": {},
   "outputs": [],
   "source": []
  }
 ],
 "metadata": {
  "kernelspec": {
   "display_name": "Python3(datascience)",
   "language": "python",
   "name": "datascience"
  },
  "language_info": {
   "codemirror_mode": {
    "name": "ipython",
    "version": 3
   },
   "file_extension": ".py",
   "mimetype": "text/x-python",
   "name": "python",
   "nbconvert_exporter": "python",
   "pygments_lexer": "ipython3",
   "version": "3.6.8"
  }
 },
 "nbformat": 4,
 "nbformat_minor": 2
}
